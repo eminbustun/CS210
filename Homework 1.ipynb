{
  "nbformat": 4,
  "nbformat_minor": 0,
  "metadata": {
    "colab": {
      "provenance": [],
      "include_colab_link": true
    },
    "kernelspec": {
      "name": "python3",
      "display_name": "Python 3"
    }
  },
  "cells": [
    {
      "cell_type": "markdown",
      "metadata": {
        "id": "view-in-github",
        "colab_type": "text"
      },
      "source": [
        "<a href=\"https://colab.research.google.com/github/eminbustun/CS210/blob/main/Homework%201.ipynb\" target=\"_parent\"><img src=\"https://colab.research.google.com/assets/colab-badge.svg\" alt=\"Open In Colab\"/></a>"
      ]
    },
    {
      "cell_type": "markdown",
      "metadata": {
        "id": "JD9gUM7WW8iT"
      },
      "source": [
        "# Homework 1 - Practicing Python\n",
        "\n",
        "\n",
        "*In the first homework, you are going to work on a set of Python exercises.*\n",
        "\n",
        "**Submission Instructions**\n",
        "\n",
        "---\n",
        "It is important that you follow the submission instructions. \n",
        "1. Copy this assignment notebook to your Drive. <font color = 'red'> `File` --> `Save a copy in Drive`</font>. Rename it as <font color = 'green'>`Lastname_Firstname_hw1`</font>.\n",
        "\n",
        "2. Write your solutions in the cells  marked <font color = 'green'>`# your code`</font>.\n",
        "\n",
        "3. Do not delete your outputs. They are essential for the grading. Make sure that cells containing your solutions are executed, and the results are displayed on the notebook.\n",
        "\n",
        "4. When you're done please submit your solutions as an <font color=\"red\">`.ipynb`</font> file. To do so:\n",
        "\n",
        "\n",
        "  a. Click on <font color=\"red\">`File`</font>  at the top left on the Colab screen, then click on <font color = 'red'>`Download .ipynb`</font>.\n",
        "\n",
        "  b. Then submit the downloaded <font color=\"red\">`.ipynb`</font> version of your work on SUCourse.\n",
        "\n",
        "\n",
        "For any question, you may send an email to the TAs and LAs.\n",
        "\n",
        "---\n",
        "\n",
        "**Important Note:**   \n",
        "In this homework, you do not need to use any libraries than the built-in ones. Hence, you are not allowed to use any libraries, other than the [`pprint`](https://docs.python.org/3/library/pprint.html) library to produce better looking outputs. If you have doubt on what to use what not to use please ask your question in the SuCourse Homework Q&A forum."
      ]
    },
    {
      "cell_type": "markdown",
      "metadata": {
        "id": "rYfw-eaiBOBJ"
      },
      "source": [
        "## 15 points - Q1: Find the E-mail, Given the TA\n",
        "\n",
        "In the cell below, you have two dictionaries. First dictionary containes the TA names as their keys, and their surnames as the values in the dictionary. Second dictionary holds the e-mail addresses for each TA.\n",
        "\n",
        "Here, your goal is to write a fuction named `print_TAs_info` that will return the name, surname and the email information. Example output is as follows:\n",
        "\n",
        "\n",
        "```py\n",
        ">>> print_TAs_info(ta_names_surnames,ta_mails)\n",
        "Deren Ege Turan derenege@sabanciuniv.edu\n",
        "Vahid Khalili Param vahid.khalili@sabanciuniv.edu\n",
        "Mert Pekey mpekey@sabanciuniv.edu\n",
        "```"
      ]
    },
    {
      "cell_type": "code",
      "metadata": {
        "id": "_RCO6nIyEpv1"
      },
      "source": [
        "ta_names_surnames = {'Deren Ege': 'Turan', 'Vahid Khalili': 'Param', 'Mert': 'Pekey'}\n",
        "ta_mails = {'Deren Ege': 'derenege@sabanciuniv.edu', 'Vahid Khalili': 'vahid.khalili@sabanciuniv.edu', 'Mert': 'mpekey@sabanciuniv.edu'}\n"
      ],
      "execution_count": null,
      "outputs": []
    },
    {
      "cell_type": "code",
      "metadata": {
        "id": "VsigiNj3FzgF",
        "colab": {
          "base_uri": "https://localhost:8080/"
        },
        "outputId": "c44d8213-1af5-43fc-a241-b0bb0312fae6"
      },
      "source": [
        "def print_TAs_info(ta_names_surnames, ta_mails):\n",
        "\n",
        "  for i in ta_names_surnames:\n",
        "    print(i, ta_names_surnames[i], ta_mails[i]) \n",
        "    \n",
        "\n",
        "print_TAs_info(ta_names_surnames, ta_mails)\n"
      ],
      "execution_count": null,
      "outputs": [
        {
          "output_type": "stream",
          "name": "stdout",
          "text": [
            "Deren Ege Turan derenege@sabanciuniv.edu\n",
            "Vahid Khalili Param vahid.khalili@sabanciuniv.edu\n",
            "Mert Pekey mpekey@sabanciuniv.edu\n"
          ]
        }
      ]
    },
    {
      "cell_type": "markdown",
      "metadata": {
        "id": "DwskSV1dAeoR"
      },
      "source": [
        "## 30 points - Q2: Inflation Rates\n",
        "\n",
        "Inflation rates measured by consumer price index for USA were taken from:\n",
        "https://www.kaggle.com/datasets/varpit94/us-inflation-data-updated-till-may-2021?resource=download\n",
        "\n",
        "Each line stores the month of the year, related consumer price index, seperated by a **comma**.\n",
        "\n",
        "In total, we have 1303 lines where the inflation rates are given monthly for years between 1913 and 2021.\n",
        "\n",
        "<a href=\"https://imgbb.com/\"><img src=\"https://i.ibb.co/hM5LGd9/inf-example.png\" alt=\"inf-example\" border=\"0\"></a>\n",
        "\n",
        "*Do not forget to add the shared file and then mount to your drive. Otherwise, you won't be able to read the file. If you do not know how, please go back to Week 1 recitation materials.*\n",
        "\n",
        "**Attention: You may want to transform the string to numbers by using float() function**"
      ]
    },
    {
      "cell_type": "markdown",
      "metadata": {
        "id": "EJdIEenmj6W_"
      },
      "source": [
        "### 15 points - **Part A**\n",
        "In this part, you should find the **maximum inflation rate change** between consecutive months by using the us_inf.csv file under assignment folder.\n",
        "\n",
        "At the end, the signature should have the similar signature as follows:\n",
        "\n",
        "```py\n",
        "Maximum inflation rate change is 5.882352941176478 between the dates: 01-06-1946 - 01-07-1946\n",
        "```\n",
        "\n",
        "\n",
        "\n"
      ]
    },
    {
      "cell_type": "code",
      "metadata": {
        "id": "tbaryKClTz5Z",
        "colab": {
          "base_uri": "https://localhost:8080/"
        },
        "outputId": "ffb809c7-eb8b-42ae-973a-4ef6cc9e9370"
      },
      "source": [
        "from google.colab import drive\n",
        "drive.mount(\"./drive/\", force_remount=True)"
      ],
      "execution_count": null,
      "outputs": [
        {
          "output_type": "stream",
          "name": "stdout",
          "text": [
            "Mounted at ./drive/\n"
          ]
        }
      ]
    },
    {
      "cell_type": "code",
      "metadata": {
        "id": "NnRDeA3_SPi0",
        "colab": {
          "base_uri": "https://localhost:8080/"
        },
        "outputId": "e44a8383-b163-4938-90fc-d15850987068"
      },
      "source": [
        "path_prefix = './drive/My Drive/'\n",
        "ff = 'us_inf.csv'\n",
        "f = open(path_prefix+ff, \"r\")\n",
        "\n",
        "ls_numbers_for_each = []\n",
        "dates = []\n",
        "\n",
        "for x in f:\n",
        "  comma = x.find(\",\") # I found the place of comma to seperate dates and values\n",
        "  \n",
        "  numbers = float(x[comma + 1:]) # I turned string numbers to float numbers\n",
        "  date = x[0:comma] \n",
        "  ls_numbers_for_each.append(numbers) # To make it easy, I append every numbers to a list.\n",
        "  dates.append(date) # to find maximum inflation rate change date interval, I append every date to dates list\n",
        "  \n",
        "\n",
        "\n",
        "q = 0\n",
        "\n",
        "max = 0\n",
        "\n",
        "ls = []\n",
        "while q   < len(ls_numbers_for_each) - 1: # Minus 1 because otherwise it cannot compute q + 1\n",
        "\n",
        "  res = ((ls_numbers_for_each[q + 1] - ls_numbers_for_each[q]) / ls_numbers_for_each[q]) * 100 \n",
        "  #print(res)\n",
        "  if (res > max): # I wrote an if condition to find maximum inflation rate.\n",
        "    max = res\n",
        "    ls.append(dates[q]) \n",
        "    ls.append(dates[q + 1])\n",
        "\n",
        "  \n",
        "  q +=1\n",
        "\n",
        "#print(ls)\n",
        "\n",
        "print(\"Maximum inflation rate change is \",max , \" between the dates:\", ls[-2], \"-\" ,ls[-1] )\n",
        "\n",
        "\n",
        "  \n"
      ],
      "execution_count": null,
      "outputs": [
        {
          "output_type": "stream",
          "name": "stdout",
          "text": [
            "Maximum inflation rate change is  5.882352941176478  between the dates: 01-06-1946 - 01-07-1946\n"
          ]
        }
      ]
    },
    {
      "cell_type": "markdown",
      "metadata": {
        "id": "pIBUWMoXSSwr"
      },
      "source": [
        "### 15 points - **Part B**\n",
        "\n",
        "Find the mean of changes of the inflation rates in USA between the consecutive dates.\n",
        "\n"
      ]
    },
    {
      "cell_type": "code",
      "metadata": {
        "id": "laBFy2HkSXpC",
        "colab": {
          "base_uri": "https://localhost:8080/"
        },
        "outputId": "3db4c759-6eb5-43c6-db44-53ee4fb6c306"
      },
      "source": [
        "file = 'us_inf.csv' \n",
        "f = open(path_prefix+file, \"r\")\n",
        "\n",
        "ls_numbers_for_each = []\n",
        "dates = []\n",
        "\n",
        "for x in f:\n",
        "  comma = x.find(\",\")\n",
        "  \n",
        "  numbers = float(x[comma + 1:])\n",
        "  date = x[0:comma]\n",
        "  ls_numbers_for_each.append(numbers)\n",
        "  dates.append(date)\n",
        "  \n",
        "\n",
        "\n",
        "q = 0\n",
        "res = 0;\n",
        "ls = []\n",
        "while q  < len(ls_numbers_for_each) - 1 : # i put the minus 1 because there are no 1304 element, In other words I cant extract the 1304th number from 1203th number. That's why, I put len - 1\n",
        "\n",
        "  res += ls_numbers_for_each[q + 1] - ls_numbers_for_each[q]\n",
        "  q += 1\n",
        "\n",
        "\n",
        "mean = res / len(ls_numbers_for_each) \n",
        "\n",
        "print(\"Mean of changes of the inflation rates is:\", mean)\n"
      ],
      "execution_count": null,
      "outputs": [
        {
          "output_type": "stream",
          "name": "stdout",
          "text": [
            "Mean of changes of the inflation rates is: 0.20199769762087488\n"
          ]
        }
      ]
    },
    {
      "cell_type": "markdown",
      "metadata": {
        "id": "srIzF7eJYUAW"
      },
      "source": [
        "## 25 points - Q3: Matrix Multiplication \n",
        "\n",
        "List/array reshaping is one of the most fundamental operations in data manipulation. In the figure below, you see a 4x3 dimensional list of lists (a list that contains lists) named `a` that has integers from 1 to 12. We can take another matrix `b` of the form 3x2 dimensional list of lists and multiply them and create a new list of list of size 4x2. \n",
        "\n",
        "![](https://i.ibb.co/hHWcdBQ/mm-drawio-nt3.png)\n",
        "\n",
        "By referencing the figure above, write a function named `matrix_multiplication` which will find the multiplication of the given two matrices. At the end, it should return the resulting matrix.\n",
        "\n",
        "```py\n",
        ">>> a = [[1,2],\n",
        "         [3,4],\n",
        "         [5,6],\n",
        "         [7,8]]\n",
        ">>> b = [[9,10,11],\n",
        "         [12,13,14]]\n",
        ">>> matrix_multiplication(a,b)\n",
        "33\t36\t39\t\n",
        "75\t82\t89\t\n",
        "117\t128\t139\t\n",
        "159\t174\t189\n",
        "```\n",
        "\n",
        "If the given list of lists do not represent a proper matrix (e.g., [[1,2], [3,4,5]] then, it should print \"Not a proper matrix\" and return None, if the number of columns of the first matrix is not equal to the number of the rows of the second matrix, it should again prints \"Not suitable for multiplication\" and return None. \n",
        "\n",
        "```py\n",
        ">>> a = [[1, 2, 3], [5, 6]]\n",
        ">>> b = [[1, 2, 3], [4, 5, 6]]\n",
        ">>> matrix_multiplication(x,y)\n",
        "\"Not a proper matrix\"\n",
        "\n",
        ">>> a = [[1, 2, 3], [4, 5, 6]]\n",
        ">>> b = [[1, 2, 3], [4, 5, 6]]\n",
        ">>> matrix_multiplication(arr)\n",
        "\"Not suitable for multiplication\"\n",
        "```"
      ]
    },
    {
      "cell_type": "code",
      "metadata": {
        "id": "iZgKbmvbZM61"
      },
      "source": [
        "# 4x2 matrix\n",
        "a = [[1, 2],\n",
        "     [3, 4],\n",
        "     [5, 6],\n",
        "     [7, 8]]\n",
        "# 2x3 matrix\n",
        "b = [[9,10,11],\n",
        "     [12,13,14]]\n",
        "# result is 4x3\n"
      ],
      "execution_count": null,
      "outputs": []
    },
    {
      "cell_type": "code",
      "source": [
        "def matrix_multiplication(a,b):\n",
        "\n",
        "  ################## INPUT CHECK PART ######################\n",
        "  row_a = len(a)\n",
        "  col_a = len(a[0])\n",
        "  row_b = len(b)\n",
        "  col_b = len(b[0])\n",
        "  listFor_values = []\n",
        "  for i in a:    # Matrix column number check for Matrix A\n",
        "    if(len(i) != col_a):\n",
        "      print(\"Not a proper matrix\")\n",
        "      return \"None\"\n",
        "  \n",
        "  for k in b: # Matrix column number check for Matrix B\n",
        "    if len(k) != col_b:\n",
        "      print(\"Not a proper matrix\")\n",
        "      return \"None\"\n",
        "      \n",
        "  if(col_a != row_b): # For matrix multiplication, the column number of Matrix A must be equal to row number of Martix B\n",
        "    print(\"Not suitable for multiplication\")\n",
        "    return \"None\"\n",
        "  \n",
        "####################### MATRIX MULTIPLICATION PART ##############################################\n",
        "\n",
        "\n",
        "  else:\n",
        "    \n",
        "    for i in range(row_a): # taking rows of matrix a\n",
        "      list_for_every_row_value = []\n",
        "\n",
        "      for j in range(col_b): # taking columns of matrix b\n",
        "        \n",
        "        sum = 0 # it must be reset for every other row\n",
        "        for n in range(col_a): # to take row's of matrix A seperatly(such as 1 and 2 or 3 and 4), and also we know that the column number of matrix a must be equal to row number of matrix B\n",
        "          sum += a[i][n] * b[n][j] ## like 1 * 9 + 2 * 12 + .....\n",
        "\n",
        "        \n",
        "        list_for_every_row_value.append(sum) \n",
        "\n",
        "      listFor_values.append(list_for_every_row_value)  \n",
        "\n",
        "  return listFor_values\n",
        "      \n",
        "    \n",
        "\n",
        "matrix_result = matrix_multiplication(a,b)\n",
        "print(matrix_result)"
      ],
      "metadata": {
        "id": "0nUxArKRrYWG",
        "colab": {
          "base_uri": "https://localhost:8080/"
        },
        "outputId": "5f11fb26-ec45-4206-805a-bd760c9c9277"
      },
      "execution_count": null,
      "outputs": [
        {
          "output_type": "stream",
          "name": "stdout",
          "text": [
            "[[33, 36, 39], [75, 82, 89], [117, 128, 139], [159, 174, 189]]\n"
          ]
        }
      ]
    },
    {
      "cell_type": "markdown",
      "metadata": {
        "id": "_0FzjI4Li18J"
      },
      "source": [
        "## 30 points - Q4: Top k Frequent Words in a File\n",
        "\n",
        "\n",
        "In the shared assignment folder, you have a file named sherlock.txt which stores the famous book written by Arhurt Conan Doyle.\n",
        "\n",
        "Write a function named top_k_frequent_words which will take a file name as it's parameter and an integer k that is how many frequent words that we are going to return. Function reads the text file and returns the most k frequent words and how many times they have occured in that file. After finding the top_k_frequent_words, report mean, median and std(sample) between their frequencies. \\\\\n",
        "Hint: Remove the symbols such as: [. , ? ! ; : \\n] \\\\\n",
        "Example signature is as follows: (here k=5)\n",
        "\n",
        "```py\n",
        ">>> top_k_frequent_words(\"file_path\",5)\n",
        "\"the\" occured 5704 times\n",
        "\"and\" occured 2939 times\n",
        "\"of\" occured 2762 times\n",
        "\"to\" occured 2733 times\n",
        "\"a\" occured 2651 times\n",
        "mean: 3357.8\n",
        "median: 2762\n",
        "std: 1315.7665826429854\n",
        "```\n",
        "\n",
        "*Do not forget to add the shared file and then mount to your drive. Otherwise, you won't be able to read the file.*"
      ]
    },
    {
      "cell_type": "code",
      "source": [
        "from google.colab import drive\n",
        "drive.mount('/content/drive/', force_remount=True)"
      ],
      "metadata": {
        "colab": {
          "base_uri": "https://localhost:8080/"
        },
        "id": "Ic5Jyatx2Y8i",
        "outputId": "f680b59d-55b1-4a25-d40b-9c2414084d10"
      },
      "execution_count": null,
      "outputs": [
        {
          "output_type": "stream",
          "name": "stdout",
          "text": [
            "Mounted at /content/drive/\n"
          ]
        }
      ]
    },
    {
      "cell_type": "code",
      "source": [
        "path_prefix = './drive/My Drive/'\n",
        "\n",
        "\n",
        "def top_k_frequent_words(filename, k):\n",
        "  dict_word = {}\n",
        "  lst = []\n",
        "  f = open(path_prefix+filename, \"r\")\n",
        "\n",
        "  text = f.read()\n",
        "\n",
        "  t = text.replace(\".\",\"\").replace(\",\",\"\").replace(\":\",\"\").replace(\";\",\"\").replace(\"!\",\"\").replace(\"?\",\"\").lower()\n",
        "\n",
        "  for i in t.split():\n",
        "    lst.append(i)\n",
        "  \n",
        " # print(a)\n",
        "  \n",
        "  for q in lst:\n",
        "\n",
        "    if q in dict_word:\n",
        "      dict_word[q] += 1\n",
        "    else:\n",
        "      dict_word[q] = 1\n",
        "\n",
        "\n",
        "  sortd = sorted(dict_word.items(), key=lambda item:item[1] ,reverse=True)\n",
        "\n",
        "  sorted_dict = dict(sortd) \n",
        "  #print(sorted_dict)\n",
        "  mean = 0\n",
        "  counter = 0\n",
        "\n",
        "  list_val = []\n",
        "\n",
        "  for key,value in sorted_dict.items():\n",
        "    print(\"\\\"\"+key+\"\\\" occured\",value,\"times\")\n",
        "    list_val.append(value)\n",
        "    mean += value\n",
        "    counter += 1\n",
        "    if counter == k:\n",
        "      break\n",
        "\n",
        "  m = mean/k\n",
        "  print(\"mean: \", m)\n",
        "\n",
        "  #Median part\n",
        "\n",
        "  length = len(list_val)\n",
        "\n",
        "  if length % 2 == 0:\n",
        "    median = (list_val[int(length/2) - 1] + list_val[int((length / 2))]) / 2\n",
        "    print(\"median:\", median)\n",
        "  else:\n",
        "    median = list_val[int((length - 1)/2)]\n",
        "    print(\"median:\", median)\n",
        "\n",
        "  #Median part ended\n",
        "\n",
        "  #standard deviation part\n",
        "\n",
        "  sumD = 0\n",
        "  for num in list_val:\n",
        "    sumD += ((num - m) ** 2)\n",
        "\n",
        "  sumDe = sumD / (k - 1)\n",
        "\n",
        "  sumDev = sumDe ** (0.5)\n",
        "\n",
        "  print(\"std:\", sumDev)\n",
        "  #Standard Deviation part ended\n",
        "\n",
        "top_k_frequent_words( \"sherlock.txt\", 5)\n"
      ],
      "metadata": {
        "id": "3aKL6Yzfw-Ha",
        "colab": {
          "base_uri": "https://localhost:8080/"
        },
        "outputId": "1f23bc07-ffc3-4ac6-9649-7a59560c7171"
      },
      "execution_count": null,
      "outputs": [
        {
          "output_type": "stream",
          "name": "stdout",
          "text": [
            "\"the\" occured 5704 times\n",
            "\"and\" occured 2939 times\n",
            "\"of\" occured 2762 times\n",
            "\"to\" occured 2733 times\n",
            "\"a\" occured 2652 times\n",
            "mean:  3358.0\n",
            "median: 2762\n",
            "std: 1315.6323574616124\n"
          ]
        }
      ]
    }
  ]
}