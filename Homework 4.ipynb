{
  "nbformat": 4,
  "nbformat_minor": 0,
  "metadata": {
    "colab": {
      "provenance": [],
      "include_colab_link": true
    },
    "kernelspec": {
      "name": "python3",
      "display_name": "Python 3"
    },
    "language_info": {
      "name": "python"
    }
  },
  "cells": [
    {
      "cell_type": "markdown",
      "metadata": {
        "id": "view-in-github",
        "colab_type": "text"
      },
      "source": [
        "<a href=\"https://colab.research.google.com/github/eminbustun/CS210/blob/main/Homework%204.ipynb\" target=\"_parent\"><img src=\"https://colab.research.google.com/assets/colab-badge.svg\" alt=\"Open In Colab\"/></a>"
      ]
    },
    {
      "cell_type": "markdown",
      "source": [
        "# Homework 4: Fraud Detection\n",
        "\n",
        "*In this homework, you are going to work with a credit card transaction dataset.*\n",
        "\n",
        "**Submission Instructions**\n",
        "\n",
        "---\n",
        "It is important that you follow the submission instructions. \n",
        "1. Copy this assignment notebook to your Drive. <font color = 'red'> `File` --> `Save a copy in Drive`</font>. Rename it as <font color = 'green'>`Lastname_Firstname_hw4`</font>.\n",
        "\n",
        "2. Write your solutions in the cells  marked <font color = 'green'>`# your code`</font>.\n",
        "\n",
        "3. **Do not delete your outputs. They are essential for the grading. Make sure that cells containing your solutions are executed, and the results are displayed in the notebook.**\n",
        "\n",
        "4. When you're done, please submit your solutions as an <font color=\"red\">`.ipynb`</font> file. To do so:\n",
        "\n",
        "\n",
        "*   Click on <font color=\"red\">`File`</font>  at the top left on the Colab screen, then click on <font color = 'red'>`Download .ipynb`</font>.\n",
        "*   Then submit the downloaded <font color=\"red\">`.ipynb`</font> version of your work on SUCourse.\n",
        "\n",
        "For any question, you may send an email to the TAs and LAs.\n",
        "\n",
        "---"
      ],
      "metadata": {
        "id": "yoxk8HgPgWTK"
      }
    },
    {
      "cell_type": "markdown",
      "source": [
        "In this homework, you will work on a dataset about credit card frauds.\n",
        "\n",
        "For this homework, you will use the provided file `creditcard_fraud.csv`. Feature engineering had already been applied to the dataset and informative features created. Names of these features are hidden for secrecy purposes to protect user identity.\n",
        "\n",
        "Below, you can find all the set of features, provided in the dataset:\n",
        "*   **Known Features**\n",
        "    * time: Number of seconds elapsed between this transaction and the first transaction in the dataset\n",
        "    * amount: Transaction amount\n",
        "\n",
        "*   **Other Features**\n",
        "    * V1 - V28: Hidden transaction features to protect user identities\n",
        "\n",
        "*   **Target**\n",
        "    * Class: 1 for Fraudulent transactions, 0 otherwise\n",
        "    \n",
        "\n",
        "    \n",
        "*Do not forget to add the shared `creditcard_fraud.csv` file to your drive and mount to your drive. Otherwise, you won't be able to read the file.*"
      ],
      "metadata": {
        "id": "fBcCcd-6gaaJ"
      }
    },
    {
      "cell_type": "code",
      "execution_count": null,
      "metadata": {
        "id": "UBdI2zjqgPZN",
        "colab": {
          "base_uri": "https://localhost:8080/"
        },
        "outputId": "7e403af4-6e46-4279-e8a9-d10268791674"
      },
      "outputs": [
        {
          "output_type": "stream",
          "name": "stdout",
          "text": [
            "Mounted at ./drive\n"
          ]
        }
      ],
      "source": [
        "from google.colab import drive\n",
        "drive.mount(\"./drive\", force_remount=True)\n",
        "\n",
        "# You can change this to the correct path\n",
        "path_prefix = \"./drive/My Drive\""
      ]
    },
    {
      "cell_type": "code",
      "source": [
        "import pandas as pd \n",
        "import numpy as np\n",
        "import matplotlib.pyplot as plt\n",
        "from os.path import join\n",
        "import warnings\n",
        "warnings.filterwarnings('ignore')\n",
        "\n",
        "%matplotlib inline"
      ],
      "metadata": {
        "id": "T0XzdcRjgg14"
      },
      "execution_count": null,
      "outputs": []
    },
    {
      "cell_type": "code",
      "source": [
        "filename = \"creditcard_fraud.csv\"\n",
        "df = pd.read_csv(join(path_prefix, filename))\n",
        "\n",
        "df.head()\n"
      ],
      "metadata": {
        "id": "wuaKhRu1gi7J",
        "colab": {
          "base_uri": "https://localhost:8080/",
          "height": 236
        },
        "outputId": "97ae5055-1345-4e29-cff1-4e350bd80a30"
      },
      "execution_count": null,
      "outputs": [
        {
          "output_type": "execute_result",
          "data": {
            "text/plain": [
              "   Time        V1        V2        V3        V4        V5        V6        V7  \\\n",
              "0   0.0 -1.359807 -0.072781  2.536347  1.378155 -0.338321  0.462388  0.239599   \n",
              "1   0.0  1.191857  0.266151  0.166480  0.448154  0.060018 -0.082361 -0.078803   \n",
              "2   1.0 -1.358354 -1.340163  1.773209  0.379780 -0.503198  1.800499  0.791461   \n",
              "3   1.0 -0.966272 -0.185226  1.792993 -0.863291 -0.010309  1.247203  0.237609   \n",
              "4   2.0 -1.158233  0.877737  1.548718  0.403034 -0.407193  0.095921  0.592941   \n",
              "\n",
              "         V8        V9  ...       V21       V22       V23       V24       V25  \\\n",
              "0  0.098698  0.363787  ... -0.018307  0.277838 -0.110474  0.066928  0.128539   \n",
              "1  0.085102 -0.255425  ... -0.225775 -0.638672  0.101288 -0.339846  0.167170   \n",
              "2  0.247676 -1.514654  ...  0.247998  0.771679  0.909412 -0.689281 -0.327642   \n",
              "3  0.377436 -1.387024  ... -0.108300  0.005274 -0.190321 -1.175575  0.647376   \n",
              "4 -0.270533  0.817739  ... -0.009431  0.798278 -0.137458  0.141267 -0.206010   \n",
              "\n",
              "        V26       V27       V28  Amount  Class  \n",
              "0 -0.189115  0.133558 -0.021053  149.62      0  \n",
              "1  0.125895 -0.008983  0.014724    2.69      0  \n",
              "2 -0.139097 -0.055353 -0.059752  378.66      0  \n",
              "3 -0.221929  0.062723  0.061458  123.50      0  \n",
              "4  0.502292  0.219422  0.215153   69.99      0  \n",
              "\n",
              "[5 rows x 31 columns]"
            ],
            "text/html": [
              "\n",
              "  <div id=\"df-107295df-c406-411e-9a40-e61bb70c08b7\">\n",
              "    <div class=\"colab-df-container\">\n",
              "      <div>\n",
              "<style scoped>\n",
              "    .dataframe tbody tr th:only-of-type {\n",
              "        vertical-align: middle;\n",
              "    }\n",
              "\n",
              "    .dataframe tbody tr th {\n",
              "        vertical-align: top;\n",
              "    }\n",
              "\n",
              "    .dataframe thead th {\n",
              "        text-align: right;\n",
              "    }\n",
              "</style>\n",
              "<table border=\"1\" class=\"dataframe\">\n",
              "  <thead>\n",
              "    <tr style=\"text-align: right;\">\n",
              "      <th></th>\n",
              "      <th>Time</th>\n",
              "      <th>V1</th>\n",
              "      <th>V2</th>\n",
              "      <th>V3</th>\n",
              "      <th>V4</th>\n",
              "      <th>V5</th>\n",
              "      <th>V6</th>\n",
              "      <th>V7</th>\n",
              "      <th>V8</th>\n",
              "      <th>V9</th>\n",
              "      <th>...</th>\n",
              "      <th>V21</th>\n",
              "      <th>V22</th>\n",
              "      <th>V23</th>\n",
              "      <th>V24</th>\n",
              "      <th>V25</th>\n",
              "      <th>V26</th>\n",
              "      <th>V27</th>\n",
              "      <th>V28</th>\n",
              "      <th>Amount</th>\n",
              "      <th>Class</th>\n",
              "    </tr>\n",
              "  </thead>\n",
              "  <tbody>\n",
              "    <tr>\n",
              "      <th>0</th>\n",
              "      <td>0.0</td>\n",
              "      <td>-1.359807</td>\n",
              "      <td>-0.072781</td>\n",
              "      <td>2.536347</td>\n",
              "      <td>1.378155</td>\n",
              "      <td>-0.338321</td>\n",
              "      <td>0.462388</td>\n",
              "      <td>0.239599</td>\n",
              "      <td>0.098698</td>\n",
              "      <td>0.363787</td>\n",
              "      <td>...</td>\n",
              "      <td>-0.018307</td>\n",
              "      <td>0.277838</td>\n",
              "      <td>-0.110474</td>\n",
              "      <td>0.066928</td>\n",
              "      <td>0.128539</td>\n",
              "      <td>-0.189115</td>\n",
              "      <td>0.133558</td>\n",
              "      <td>-0.021053</td>\n",
              "      <td>149.62</td>\n",
              "      <td>0</td>\n",
              "    </tr>\n",
              "    <tr>\n",
              "      <th>1</th>\n",
              "      <td>0.0</td>\n",
              "      <td>1.191857</td>\n",
              "      <td>0.266151</td>\n",
              "      <td>0.166480</td>\n",
              "      <td>0.448154</td>\n",
              "      <td>0.060018</td>\n",
              "      <td>-0.082361</td>\n",
              "      <td>-0.078803</td>\n",
              "      <td>0.085102</td>\n",
              "      <td>-0.255425</td>\n",
              "      <td>...</td>\n",
              "      <td>-0.225775</td>\n",
              "      <td>-0.638672</td>\n",
              "      <td>0.101288</td>\n",
              "      <td>-0.339846</td>\n",
              "      <td>0.167170</td>\n",
              "      <td>0.125895</td>\n",
              "      <td>-0.008983</td>\n",
              "      <td>0.014724</td>\n",
              "      <td>2.69</td>\n",
              "      <td>0</td>\n",
              "    </tr>\n",
              "    <tr>\n",
              "      <th>2</th>\n",
              "      <td>1.0</td>\n",
              "      <td>-1.358354</td>\n",
              "      <td>-1.340163</td>\n",
              "      <td>1.773209</td>\n",
              "      <td>0.379780</td>\n",
              "      <td>-0.503198</td>\n",
              "      <td>1.800499</td>\n",
              "      <td>0.791461</td>\n",
              "      <td>0.247676</td>\n",
              "      <td>-1.514654</td>\n",
              "      <td>...</td>\n",
              "      <td>0.247998</td>\n",
              "      <td>0.771679</td>\n",
              "      <td>0.909412</td>\n",
              "      <td>-0.689281</td>\n",
              "      <td>-0.327642</td>\n",
              "      <td>-0.139097</td>\n",
              "      <td>-0.055353</td>\n",
              "      <td>-0.059752</td>\n",
              "      <td>378.66</td>\n",
              "      <td>0</td>\n",
              "    </tr>\n",
              "    <tr>\n",
              "      <th>3</th>\n",
              "      <td>1.0</td>\n",
              "      <td>-0.966272</td>\n",
              "      <td>-0.185226</td>\n",
              "      <td>1.792993</td>\n",
              "      <td>-0.863291</td>\n",
              "      <td>-0.010309</td>\n",
              "      <td>1.247203</td>\n",
              "      <td>0.237609</td>\n",
              "      <td>0.377436</td>\n",
              "      <td>-1.387024</td>\n",
              "      <td>...</td>\n",
              "      <td>-0.108300</td>\n",
              "      <td>0.005274</td>\n",
              "      <td>-0.190321</td>\n",
              "      <td>-1.175575</td>\n",
              "      <td>0.647376</td>\n",
              "      <td>-0.221929</td>\n",
              "      <td>0.062723</td>\n",
              "      <td>0.061458</td>\n",
              "      <td>123.50</td>\n",
              "      <td>0</td>\n",
              "    </tr>\n",
              "    <tr>\n",
              "      <th>4</th>\n",
              "      <td>2.0</td>\n",
              "      <td>-1.158233</td>\n",
              "      <td>0.877737</td>\n",
              "      <td>1.548718</td>\n",
              "      <td>0.403034</td>\n",
              "      <td>-0.407193</td>\n",
              "      <td>0.095921</td>\n",
              "      <td>0.592941</td>\n",
              "      <td>-0.270533</td>\n",
              "      <td>0.817739</td>\n",
              "      <td>...</td>\n",
              "      <td>-0.009431</td>\n",
              "      <td>0.798278</td>\n",
              "      <td>-0.137458</td>\n",
              "      <td>0.141267</td>\n",
              "      <td>-0.206010</td>\n",
              "      <td>0.502292</td>\n",
              "      <td>0.219422</td>\n",
              "      <td>0.215153</td>\n",
              "      <td>69.99</td>\n",
              "      <td>0</td>\n",
              "    </tr>\n",
              "  </tbody>\n",
              "</table>\n",
              "<p>5 rows × 31 columns</p>\n",
              "</div>\n",
              "      <button class=\"colab-df-convert\" onclick=\"convertToInteractive('df-107295df-c406-411e-9a40-e61bb70c08b7')\"\n",
              "              title=\"Convert this dataframe to an interactive table.\"\n",
              "              style=\"display:none;\">\n",
              "        \n",
              "  <svg xmlns=\"http://www.w3.org/2000/svg\" height=\"24px\"viewBox=\"0 0 24 24\"\n",
              "       width=\"24px\">\n",
              "    <path d=\"M0 0h24v24H0V0z\" fill=\"none\"/>\n",
              "    <path d=\"M18.56 5.44l.94 2.06.94-2.06 2.06-.94-2.06-.94-.94-2.06-.94 2.06-2.06.94zm-11 1L8.5 8.5l.94-2.06 2.06-.94-2.06-.94L8.5 2.5l-.94 2.06-2.06.94zm10 10l.94 2.06.94-2.06 2.06-.94-2.06-.94-.94-2.06-.94 2.06-2.06.94z\"/><path d=\"M17.41 7.96l-1.37-1.37c-.4-.4-.92-.59-1.43-.59-.52 0-1.04.2-1.43.59L10.3 9.45l-7.72 7.72c-.78.78-.78 2.05 0 2.83L4 21.41c.39.39.9.59 1.41.59.51 0 1.02-.2 1.41-.59l7.78-7.78 2.81-2.81c.8-.78.8-2.07 0-2.86zM5.41 20L4 18.59l7.72-7.72 1.47 1.35L5.41 20z\"/>\n",
              "  </svg>\n",
              "      </button>\n",
              "      \n",
              "  <style>\n",
              "    .colab-df-container {\n",
              "      display:flex;\n",
              "      flex-wrap:wrap;\n",
              "      gap: 12px;\n",
              "    }\n",
              "\n",
              "    .colab-df-convert {\n",
              "      background-color: #E8F0FE;\n",
              "      border: none;\n",
              "      border-radius: 50%;\n",
              "      cursor: pointer;\n",
              "      display: none;\n",
              "      fill: #1967D2;\n",
              "      height: 32px;\n",
              "      padding: 0 0 0 0;\n",
              "      width: 32px;\n",
              "    }\n",
              "\n",
              "    .colab-df-convert:hover {\n",
              "      background-color: #E2EBFA;\n",
              "      box-shadow: 0px 1px 2px rgba(60, 64, 67, 0.3), 0px 1px 3px 1px rgba(60, 64, 67, 0.15);\n",
              "      fill: #174EA6;\n",
              "    }\n",
              "\n",
              "    [theme=dark] .colab-df-convert {\n",
              "      background-color: #3B4455;\n",
              "      fill: #D2E3FC;\n",
              "    }\n",
              "\n",
              "    [theme=dark] .colab-df-convert:hover {\n",
              "      background-color: #434B5C;\n",
              "      box-shadow: 0px 1px 3px 1px rgba(0, 0, 0, 0.15);\n",
              "      filter: drop-shadow(0px 1px 2px rgba(0, 0, 0, 0.3));\n",
              "      fill: #FFFFFF;\n",
              "    }\n",
              "  </style>\n",
              "\n",
              "      <script>\n",
              "        const buttonEl =\n",
              "          document.querySelector('#df-107295df-c406-411e-9a40-e61bb70c08b7 button.colab-df-convert');\n",
              "        buttonEl.style.display =\n",
              "          google.colab.kernel.accessAllowed ? 'block' : 'none';\n",
              "\n",
              "        async function convertToInteractive(key) {\n",
              "          const element = document.querySelector('#df-107295df-c406-411e-9a40-e61bb70c08b7');\n",
              "          const dataTable =\n",
              "            await google.colab.kernel.invokeFunction('convertToInteractive',\n",
              "                                                     [key], {});\n",
              "          if (!dataTable) return;\n",
              "\n",
              "          const docLinkHtml = 'Like what you see? Visit the ' +\n",
              "            '<a target=\"_blank\" href=https://colab.research.google.com/notebooks/data_table.ipynb>data table notebook</a>'\n",
              "            + ' to learn more about interactive tables.';\n",
              "          element.innerHTML = '';\n",
              "          dataTable['output_type'] = 'display_data';\n",
              "          await google.colab.output.renderOutput(dataTable, element);\n",
              "          const docLink = document.createElement('div');\n",
              "          docLink.innerHTML = docLinkHtml;\n",
              "          element.appendChild(docLink);\n",
              "        }\n",
              "      </script>\n",
              "    </div>\n",
              "  </div>\n",
              "  "
            ]
          },
          "metadata": {},
          "execution_count": 3
        }
      ]
    },
    {
      "cell_type": "markdown",
      "source": [
        "## Q1 - Ratio Between Fraudalent and Non-Fraudalent Transactions (5 Points)\n",
        "\n",
        "The dataset is imbalanced so that non-frauds are dominant in the data. In this part you are asked to plot a pie chart and show the ratio between fraudalent and non-fraudalent transactions. Your output should be like: \n",
        "\n",
        "<img src=\"https://i.ibb.co/7KpVFG9/pie.png\" alt=\"pie\" border=\"0\" width=\"300\">\n",
        "\n"
      ],
      "metadata": {
        "id": "ycIDUJGugnPP"
      }
    },
    {
      "cell_type": "code",
      "source": [
        "dictionary = {}\n",
        "\n",
        "\n",
        "for i in df[\"Class\"]:\n",
        "\n",
        "  if i in dictionary:\n",
        "    dictionary[i] += 1\n",
        "  else:\n",
        "    dictionary[i] = 1\n",
        "\n",
        "xs = list(dictionary.keys())\n",
        "\n",
        "ys = list(dictionary.values())\n",
        "\n",
        "plt.title(\"Ratio of Transactions\")\n",
        "\n",
        "plt.pie(ys, labels=(\"Non-Fraud\", \"Fraud\"), colors=(\"b\",\"r\"),autopct=\"%1.1f%%\")\n",
        "plt.savefig(\"pie\")\n"
      ],
      "metadata": {
        "id": "OyXiX4Lqgq4q",
        "colab": {
          "base_uri": "https://localhost:8080/",
          "height": 264
        },
        "outputId": "420f950a-7f49-43f9-960c-9c9fa1801575"
      },
      "execution_count": null,
      "outputs": [
        {
          "output_type": "display_data",
          "data": {
            "text/plain": [
              "<Figure size 432x288 with 1 Axes>"
            ],
            "image/png": "[encoded data removed]"
          },
          "metadata": {}
        }
      ]
    },
    {
      "cell_type": "markdown",
      "source": [
        "## Q2 - Split the data into train (60%), validation (20%) and test (20%). (5 Points)\n",
        "\n",
        "Use `train_test_split` with `random_state` parameter set to 0. Drop `Time` column since it doesn't give any information.\n",
        "\n",
        "***Important:** Do not forget that the data is imbalanced so you should handle that with stratified splitting. Search how you can do this with `train_test_split` function*"
      ],
      "metadata": {
        "id": "kTkwhYVlgyTN"
      }
    },
    {
      "cell_type": "code",
      "source": [
        "from sklearn.model_selection import train_test_split\n",
        "\n",
        "df = df.drop(['Time'], axis=1)\n",
        "df_target = df['Class']\n",
        "df = df.drop(['Class'], axis=1)\n",
        "X_train, X_test, y_train, y_test = train_test_split(df, df_target,test_size= 0.40 ,stratify=df_target,random_state=0)\n",
        "X_test, X_val, y_test, y_val = train_test_split(X_test, y_test, test_size=0.5, random_state=0)\n",
        "\n"
      ],
      "metadata": {
        "id": "nE-wYYO9gyyV"
      },
      "execution_count": null,
      "outputs": []
    },
    {
      "cell_type": "markdown",
      "source": [
        "## Q3 - Build 2 Baseline Models (5 Points)\n",
        "\n",
        "You are going to build a Random Forest and a Gradient Boosting model. Set random_state = 0. Then fit the model with training data."
      ],
      "metadata": {
        "id": "e6KbrogHg5kj"
      }
    },
    {
      "cell_type": "code",
      "source": [
        "from sklearn.ensemble import RandomForestClassifier\n",
        "from sklearn.ensemble import GradientBoostingClassifier\n",
        "\n",
        "model_for_RandomForest = RandomForestClassifier(random_state=0)\n",
        "model_for_RandomForest.fit(X_train, y_train)\n",
        "\n",
        "\n",
        "model_for_GradientBoostingClassifier = GradientBoostingClassifier(random_state = 0)\n",
        "model_for_GradientBoostingClassifier.fit(X_train, y_train)\n",
        "\n"
      ],
      "metadata": {
        "id": "wrf8N6ahg6Ot",
        "colab": {
          "base_uri": "https://localhost:8080/"
        },
        "outputId": "ae1fd68e-2bb7-4a28-db20-daa8d6d29f56"
      },
      "execution_count": null,
      "outputs": [
        {
          "output_type": "execute_result",
          "data": {
            "text/plain": [
              "GradientBoostingClassifier(random_state=0)"
            ]
          },
          "metadata": {},
          "execution_count": 6
        }
      ]
    },
    {
      "cell_type": "markdown",
      "source": [
        "## Q4 - Evaluate the Baseline Model (30 Points)\n",
        "\n",
        "There are some functions below already imported for you. You can use those functions to find results but of course there are other ways too. Those are given for you to give hints. "
      ],
      "metadata": {
        "id": "k5KpT6_JhD3V"
      }
    },
    {
      "cell_type": "markdown",
      "source": [
        "### Part 1 - Plot Confusion Matrix (10 Points)\n",
        "\n",
        "In this part you are asked to plot the Confusion Matrix for both Random Forest and Gradient Boosting model for the predictions made on the validation data. These outputs should be side by side. You can use subplots from matplotlib. \n",
        "\n",
        "**Note**: There are many ways to use subplots, so don't stick with one of them if it doesn't work. Two libraries are given to you for confusion matrix. However, you are free to use any other or implement it yourself. The colors of the confusion matrix don't have to be the same with the expected output.\n",
        "\n",
        "\n",
        "<img src=\"https://i.ibb.co/JrknyR8/conf2.png\" alt=\"conf2\" border=\"0\" width=\"600\">\n",
        "\n",
        "*Please keep in mind that this confusion matrix might be different than what you will get due to randomness.*"
      ],
      "metadata": {
        "id": "iA0oF3hShG4M"
      }
    },
    {
      "cell_type": "code",
      "source": [
        "\n",
        "from sklearn.metrics import plot_confusion_matrix, ConfusionMatrixDisplay\n",
        "from sklearn.metrics import confusion_matrix\n",
        "\n",
        "fig, (ax1, ax2) = plt.subplots(1,2, figsize=(10,4))\n",
        "##################### RANDOM FOREST #####################################\n",
        "\n",
        "y_valPredictionRF = model_for_RandomForest.predict(X_val)\n",
        "conf = confusion_matrix(y_val, y_valPredictionRF)\n",
        "ConfusionMatrixDisplay(confusion_matrix=conf).plot(ax=ax1, cmap=\"Blues\")\n",
        "ax1.set_title(\"Random Forest Confusion Matrix\")\n",
        "###########################GRADIENT #######################################\n",
        "\n",
        "y_valPrediction = model_for_GradientBoostingClassifier.predict(X_val)\n",
        "conf2 = confusion_matrix(y_val, y_valPrediction)\n",
        "ConfusionMatrixDisplay(confusion_matrix=conf2).plot(ax=ax2, cmap=\"Greens\")\n",
        "\n",
        "\n",
        "plt.subplots_adjust(wspace=0.2)\n",
        "\n",
        "plt.title(\"Gradient Boosting Confusion Matrix\")\n",
        "plt.show()\n",
        "\n"
      ],
      "metadata": {
        "id": "j2IPSUJqhENY",
        "colab": {
          "base_uri": "https://localhost:8080/",
          "height": 281
        },
        "outputId": "4ed01122-7b60-4af0-b5fe-c330d7f20dd3"
      },
      "execution_count": null,
      "outputs": [
        {
          "output_type": "display_data",
          "data": {
            "text/plain": [
              "<Figure size 720x288 with 4 Axes>"
            ],
            "image/png": "[encoded data removed]"
          },
          "metadata": {
            "needs_background": "light"
          }
        }
      ]
    },
    {
      "cell_type": "markdown",
      "source": [
        "### Part 2 - Plot ROC Curve Evaluated on Validation Data (20 Points)\n",
        "\n",
        "In this part you are asked to plot ROC curve of these two model's output on the validation data. You can see the expected format below.\n",
        "\n",
        "\n",
        "<img src=\"https://i.ibb.co/5BZKHd1/curves.png\" alt=\"curves\" border=\"0\" width=\"500\">\n",
        "\n",
        "*Please keep in mind that this plot might be different than what you will get due to randomness.*"
      ],
      "metadata": {
        "id": "CslF9ARShPGw"
      }
    },
    {
      "cell_type": "code",
      "source": [
        "\n",
        "from sklearn.metrics import RocCurveDisplay, PrecisionRecallDisplay, roc_curve, auc, precision_recall_curve,f1_score,average_precision_score,accuracy_score\n",
        "fig, axs = plt.subplots(2,2, figsize=(10,10))\n",
        "\n",
        "\n",
        "\n",
        "\n",
        "\n",
        "y_valPredictionRF = model_for_RandomForest.predict_proba(X_val)\n",
        "fpr, tpr, threshold = roc_curve(y_val,y_valPredictionRF[:,1])\n",
        "roc_auc = auc(fpr, tpr)\n",
        "\n",
        "RocCurveDisplay(fpr = fpr, tpr = tpr,roc_auc = roc_auc, estimator_name=\"RandomForest\").plot(ax = axs[0,0])\n",
        "axs[0,0].plot(axs[0,0].get_xlim(), axs[0,0].get_ylim(), color=\"red\", linestyle=\"--\")\n",
        "axs[0,0].set_title(\"Random Forest ROC\")\n",
        "axs[0,0].set_xlabel(\"FPR\")\n",
        "axs[0,0].set_ylabel(\"TPR\")\n",
        "axs[0,0].set_xlim(0,1)\n",
        "axs[0,0].set_ylim(0,1)\n",
        "####################\n",
        "\n",
        "y_pred = model_for_GradientBoostingClassifier.predict_proba(X_val)\n",
        "fpr2, tpr2, threshold2 = roc_curve(y_val,y_pred[:,1])\n",
        "roc_auc = auc(fpr2, tpr2)\n",
        "\n",
        "RocCurveDisplay(fpr = fpr2, tpr = tpr2,roc_auc = roc_auc, estimator_name=\"Gradient Boosting\").plot(ax = axs[0,1])\n",
        "axs[0,1].plot(axs[0,0].get_xlim(), axs[0,0].get_ylim(), color=\"red\", linestyle=\"--\")\n",
        "axs[0,1].set_title(\"Gradient Boosting ROC\")\n",
        "axs[0,1].set_xlabel(\"FPR\")\n",
        "axs[0,1].set_ylabel(\"TPR\")\n",
        "axs[0,1].set_xlim(0,1)\n",
        "axs[0,1].set_ylim(0,1)\n",
        "\n",
        "######################\n",
        "prec, rec, empty = precision_recall_curve(y_val, y_valPredictionRF[:,1])\n",
        "\n",
        "PrecisionRecallDisplay(precision=prec, recall = rec, estimator_name=\"Random Forest\").plot(ax = axs[1,0])\n",
        "axs[1,0].set_title(\"Random Forest Precision-Recall Curve\")\n",
        "\n",
        "##########################################\n",
        "\n",
        "prec, rec, empty = precision_recall_curve(y_val, y_pred[:,1])\n",
        "\n",
        "PrecisionRecallDisplay(precision=prec, recall = rec, estimator_name=\"Gradient Boosting\").plot(ax = axs[1,1])\n",
        "axs[1,1].set_title(\"Gradient Boosting Precision-Recall Curve\")\n",
        "\n",
        "plt.show()\n",
        "\n"
      ],
      "metadata": {
        "id": "rdUvMqqihPfc",
        "colab": {
          "base_uri": "https://localhost:8080/",
          "height": 621
        },
        "outputId": "b19e41ca-878e-4a72-a050-345c8508f845"
      },
      "execution_count": null,
      "outputs": [
        {
          "output_type": "display_data",
          "data": {
            "text/plain": [
              "<Figure size 720x720 with 4 Axes>"
            ],
            "image/png": "[encoded data removed]"
          },
          "metadata": {
            "needs_background": "light"
          }
        }
      ]
    },
    {
      "cell_type": "markdown",
      "source": [
        "## Q5 - Hyperparameter Tuning (40 Points)"
      ],
      "metadata": {
        "id": "ZCxjVm6KhYaS"
      }
    },
    {
      "cell_type": "markdown",
      "source": [
        "### Part 1: Getting Hyperparameter Tuning Results (30 Points)\n",
        "\n",
        "Now that you trained the default model and see the results, it is time to make it better with hyperparameter tuning. To evaluate the model performances you need to use AUPRC(Area Under Precision-Recall Curve). To this end, store AUPRC values for each model then decide which parameters are the best to use.\n",
        "\n",
        "Here, you are asked to tune hyperparameters in two steps. \n",
        "\n",
        "**Step 1:**\n",
        "\n",
        "In the first step, train different models dfor both algorithm separately only changing number of estimators.\n",
        "\n",
        "Use the following values for this step:\n",
        "```\n",
        "'n_estimators': [50,100,300,500]\n",
        "```\n",
        "**Step 2:**\n",
        "\n",
        "In the second step, train different models **only** changing max_features values. You should use the best value for the `n_estimators` that you obtained in the first step. (The best value of `n_estimators` can be different for 2 algorithm)\n",
        "\n",
        "Use the following values for this step:\n",
        "```\n",
        "'max_features': [5,7,10,25]\n",
        "```\n",
        "\n",
        "**Remember that positive class is fraudalent ones.**\n",
        "\n",
        "\n",
        "<img src=\"https://i.ibb.co/kqQqcXS/model-results.png\" alt=\"model-results\" border=\"0\" width=\"350\">\n",
        "\n",
        "*Please keep in mind that this results might be different than what you will get due to randomness.*"
      ],
      "metadata": {
        "id": "YwEsDkCVhbQx"
      }
    },
    {
      "cell_type": "code",
      "source": [
        "estimators = [50,100,300,500]\n",
        "\n",
        "print(\"Random Forest: \\n\")\n",
        "\n",
        "ls_estRF = []\n",
        "\n",
        "for est in estimators:\n",
        "\n",
        "  model_rf = RandomForestClassifier(n_estimators=est)\n",
        "  model_rf.fit(X_train, y_train)\n",
        "  predictions = model_rf.predict_proba(X_val)\n",
        "  prec, rec, empty = precision_recall_curve(y_val, predictions[:,1])\n",
        "\n",
        "  \n",
        "  print(\"n_estimators \", est, \", AUPRC score: \",  auc(rec,prec))\n",
        "\n",
        "  \n",
        "  ls_estRF.append(auc(rec,prec))\n",
        "\n",
        "\n",
        "  \n",
        "max_n = ls_estRF.index(max(ls_estRF))\n",
        "\n",
        "print()\n",
        "print(\"Best n_estimators for Random Forest  = \", estimators[max_n])\n",
        "\n",
        "ls_feaRF = []\n",
        "max_features= [5,7,10,25]\n",
        "print()\n",
        "for i in max_features:\n",
        "\n",
        "  model_rf = RandomForestClassifier(n_estimators=estimators[max_n], max_features= i)\n",
        "  model_rf.fit(X_train, y_train)\n",
        "  predictions = model_rf.predict_proba(X_val)\n",
        "  prec, rec, empty = precision_recall_curve(y_val, predictions[:,1])\n",
        "  \n",
        "  ls_feaRF.append(auc(rec,prec))\n",
        "    \n",
        "  print(\"n_estimators \", estimators[max_n], \" max_features \", i, \", AUPRC score: \",  auc(rec,prec))\n",
        "\n",
        "  \n",
        "i = ls_feaRF.index(max(ls_feaRF))\n",
        "\n",
        "print()\n",
        "print(\"For Random Forest, best n_estimators = \", estimators[max_n], \" and best max_features = \", max_features[i])\n",
        "\n",
        "max_feaRF = max_features[i]\n",
        "\n",
        "max_estRF = estimators[max_n]\n",
        "\n",
        "print()\n",
        "#############################################################################\n",
        "print(\"Gradient Boosting: \\n\")\n",
        "\n",
        "ls_estGB = []\n",
        "\n",
        "for est in estimators:\n",
        "\n",
        "  model_rf = GradientBoostingClassifier(n_estimators=est)\n",
        "  model_rf.fit(X_train, y_train)\n",
        "  predictions = model_rf.predict_proba(X_val)\n",
        "  prec, rec, empty = precision_recall_curve(y_val, predictions[:,1])\n",
        "\n",
        "  \n",
        "  print(\"n_estimators \", est, \", AUPRC score: \",  auc(rec,prec))\n",
        "\n",
        "  \n",
        "  ls_estGB.append(auc(rec,prec))\n",
        "\n",
        "\n",
        "  \n",
        "max_i = ls_estGB.index(max(ls_estGB))\n",
        "\n",
        "print()\n",
        "print(\"Best n_estimators for Gradient Boosting  = \", estimators[max_i])\n",
        "\n",
        "ls_feaGB = []\n",
        "max_features= [5,7,10,25]\n",
        "print()\n",
        "for k in max_features:\n",
        "\n",
        "  model_rf = GradientBoostingClassifier(n_estimators=estimators[max_i], max_features= k)\n",
        "  model_rf.fit(X_train, y_train)\n",
        "  predictions = model_rf.predict_proba(X_val)\n",
        "  prec, rec, empty = precision_recall_curve(y_val, predictions[:,1])\n",
        "  \n",
        "  ls_feaGB.append(auc(rec,prec))\n",
        "    \n",
        "  print(\"n_estimators \", estimators[max_i], \" max_features \", k, \", AUPRC score: \",  auc(rec,prec))\n",
        "\n",
        "  \n",
        "m = ls_feaGB.index(max(ls_feaGB))\n",
        "\n",
        "print()\n",
        "\n",
        "print(\"For Gradient Boosting, best n_estimators = \", estimators[max_i], \" and best max_features = \", max_features[m])\n",
        " \n"
      ],
      "metadata": {
        "id": "PLoXHgbihd77",
        "colab": {
          "base_uri": "https://localhost:8080/"
        },
        "outputId": "6234d590-9fe8-49e2-9ea0-1171fa38a5dd"
      },
      "execution_count": null,
      "outputs": [
        {
          "output_type": "stream",
          "name": "stdout",
          "text": [
            "Random Forest: \n",
            "\n",
            "n_estimators  50 , AUPRC score:  0.9363541201271082\n",
            "n_estimators  100 , AUPRC score:  0.9338232079189226\n",
            "n_estimators  300 , AUPRC score:  0.9382187060481473\n",
            "n_estimators  500 , AUPRC score:  0.9390864023900336\n",
            "\n",
            "Best n_estimators for Random Forest  =  500\n",
            "\n",
            "n_estimators  500  max_features  5 , AUPRC score:  0.9377614522607444\n",
            "n_estimators  500  max_features  7 , AUPRC score:  0.9349803904616417\n",
            "n_estimators  500  max_features  10 , AUPRC score:  0.9313961377183798\n",
            "n_estimators  500  max_features  25 , AUPRC score:  0.9151179457286086\n",
            "\n",
            "For Random Forest, best n_estimators =  500  and best max_features =  5\n",
            "\n",
            "Gradient Boosting: \n",
            "\n",
            "n_estimators  50 , AUPRC score:  0.7709160653879961\n",
            "n_estimators  100 , AUPRC score:  0.7649513608244566\n",
            "n_estimators  300 , AUPRC score:  0.7811111269648727\n",
            "n_estimators  500 , AUPRC score:  0.7864280601757239\n",
            "\n",
            "Best n_estimators for Gradient Boosting  =  500\n",
            "\n",
            "n_estimators  500  max_features  5 , AUPRC score:  0.7620974102104552\n",
            "n_estimators  500  max_features  7 , AUPRC score:  0.7689890057632827\n",
            "n_estimators  500  max_features  10 , AUPRC score:  0.7849756270059516\n",
            "n_estimators  500  max_features  25 , AUPRC score:  0.8357946077649745\n",
            "\n",
            "For Gradient Boosting, best n_estimators =  500  and best max_features =  25\n"
          ]
        }
      ]
    },
    {
      "cell_type": "markdown",
      "source": [
        "### Part 2 - Plotting Results (10 PTS)\n",
        "\n",
        "You can see that the AUPRC scores may be better when max_features is not set than when we set it. This is because the default value of max_features might work better. However, for now, we will proceed with the results of the values we have determined.\n",
        "\n",
        "Plot `n_estimators` vs AUPRC scores and `max_features` vs AUPRC scores using validation data with subplots. Please check the expected output to see the format\n",
        "\n",
        "Your plots should look like below. Remember these plots are based on random allocations so it is highly possible that the values you get will not be exactly the same. However, structures should be the same.\n",
        "\n",
        "\n",
        "***Hint:** You can set yticks as np.around(np.linspace(0.7,1),decimals=2) to have similar plots.*\n",
        "\n",
        "\n",
        "<img src=\"https://i.ibb.co/9y8ZJpp/hyp-plot.png\" alt=\"hyp-plot\" border=\"0\">\n",
        "\n",
        "*Please keep in mind that these plots might be different than what you will get due to randomness.*"
      ],
      "metadata": {
        "id": "KaGW6I51hoqH"
      }
    },
    {
      "cell_type": "code",
      "source": [
        "\n",
        "\n",
        "\n",
        "fig, (ax1, ax2) = plt.subplots(1,2, figsize=(10,5))\n",
        "\n",
        "np_RF_estimators = np.array(ls_estRF)\n",
        "np_GB_estimators = np.array(ls_estGB)\n",
        "\n",
        "ax1.plot(estimators, np_RF_estimators, label =\"Random Forest\", color = \"blue\", linestyle=\"--\", marker=\"o\")\n",
        "ax1.plot(estimators, np_GB_estimators, label =\"Gradient Boosting\", color = \"red\", linestyle=\"--\", marker=\"o\")\n",
        "\n",
        "ax1.legend()\n",
        "ax1.set_xticks(estimators)\n",
        "ax1.set_ylim(0.70,1.00)\n",
        "ax1.set_yticks(np.around(np.linspace(0.7,1),decimals=2))\n",
        "ax1.grid()\n",
        "ax1.set_title(\"AUPRC - n_estimators\")\n",
        "ax1.set_xlabel(\"n_estimators\")\n",
        "ax1.set_ylabel(\"AUPRC\")\n",
        "\n",
        "#####################################################################\n",
        "\n",
        "\n",
        "\n",
        "\n",
        "\n",
        "np_RF_fea = np.array(ls_feaRF)\n",
        "np_GB_fea = np.array(ls_feaGB)\n",
        "\n",
        "ax2.plot(max_features, np_RF_fea, label =\"Random Forest\", color = \"blue\", linestyle=\"--\", marker=\"o\")\n",
        "ax2.plot(max_features, np_GB_fea, label =\"Gradient Boosting\", color = \"red\", linestyle=\"--\", marker=\"o\")\n",
        "\n",
        "ax2.legend()\n",
        "ax2.set_xticks(max_features)\n",
        "ax2.set_ylim(0.70,1.00)\n",
        "ax2.set_yticks(np.around(np.linspace(0.7,1),decimals=2))\n",
        "ax2.grid()\n",
        "ax2.set_title(\"AUPRC - max_features\")\n",
        "ax2.set_xlabel(\"max_features\")\n",
        "ax2.set_ylabel(\"AUPRC\")\n",
        "\n",
        "plt.show()\n",
        "\n",
        "\n"
      ],
      "metadata": {
        "id": "oQL7lqsxhthb",
        "colab": {
          "base_uri": "https://localhost:8080/",
          "height": 351
        },
        "outputId": "8df4e4bb-033a-440b-9254-73944fc82976"
      },
      "execution_count": null,
      "outputs": [
        {
          "output_type": "display_data",
          "data": {
            "text/plain": [
              "<Figure size 720x360 with 2 Axes>"
            ],
            "image/png": "[encoded data removed]"
          },
          "metadata": {
            "needs_background": "light"
          }
        }
      ]
    },
    {
      "cell_type": "markdown",
      "source": [
        "## Q6 - Evaluate on Test Data (20 PTS)\n",
        "\n",
        "\n",
        "\n",
        "\n",
        "Here, you are asked to evaluate the final model using the test data. Select the best model among these 2 different algorithms and its best num_estimator and max features. \n",
        "\n",
        "### Retrain the Model\n",
        "\n",
        "Retrain your model combining train + validation data with using the hyperparameters you have chosen (best). This part has no points but it's necessary to do the upcoming parts"
      ],
      "metadata": {
        "id": "KBF4FHoJh1Dy"
      }
    },
    {
      "cell_type": "code",
      "source": [
        "merged_df = pd.concat([X_val, X_train])\n",
        "\n",
        "merged_df2 = pd.concat([y_val, y_train])\n",
        "\n",
        "model_for_RF = RandomForestClassifier(random_state=0, n_estimators=max_estRF, max_features=max_feaRF)\n",
        "model_for_RF.fit(merged_df, merged_df2)\n",
        "\n"
      ],
      "metadata": {
        "colab": {
          "base_uri": "https://localhost:8080/"
        },
        "id": "dpUCeOFnbJDv",
        "outputId": "bce98f5d-7fdb-48ee-a283-51acdc5a9e48"
      },
      "execution_count": null,
      "outputs": [
        {
          "output_type": "execute_result",
          "data": {
            "text/plain": [
              "RandomForestClassifier(max_features=5, n_estimators=500, random_state=0)"
            ]
          },
          "metadata": {},
          "execution_count": 16
        }
      ]
    },
    {
      "cell_type": "markdown",
      "source": [
        "### Part 1 - Plot Confusion Matrix (10 Points)\n",
        "\n",
        "Expected Output:\n",
        "\n",
        "<img src=\"https://i.ibb.co/mNKZj6q/test-conf.png\" alt=\"test-conf\" border=\"0\" width=\"300\">\n",
        "\n",
        "*Please keep in mind that this confusion matrix might be different than what you will get.*"
      ],
      "metadata": {
        "id": "pMqe1lNNh8Xh"
      }
    },
    {
      "cell_type": "code",
      "source": [
        "y_pred = model_for_RandomForest.predict(X_test)\n",
        "conf = confusion_matrix(y_test ,y_pred)\n",
        "ConfusionMatrixDisplay(confusion_matrix=conf).plot(cmap=\"Blues\")\n",
        "plt.title(\"Confusion Matrix Evaluated on Test Data\")\n",
        "plt.show()"
      ],
      "metadata": {
        "id": "tydgF9YziAxq",
        "colab": {
          "base_uri": "https://localhost:8080/",
          "height": 295
        },
        "outputId": "c69d49e1-b67d-4658-b41d-432f5c923ce9"
      },
      "execution_count": null,
      "outputs": [
        {
          "output_type": "display_data",
          "data": {
            "text/plain": [
              "<Figure size 432x288 with 2 Axes>"
            ],
            "image/png": "[encoded data removed]"
          },
          "metadata": {
            "needs_background": "light"
          }
        }
      ]
    },
    {
      "cell_type": "markdown",
      "source": [
        "### Part 2 - Plot ROC Curve and Precision-Recall Curve Evaluated on Test Data (10 Points)\n",
        "\n",
        "Expected Output:\n",
        "\n",
        "<img src=\"https://i.ibb.co/9tTNp5j/test-plot.png\" alt=\"test-plot\" border=\"0\" width=\"500\">\n",
        "\n",
        "*Please keep in mind that these plots might be different than what you will get due to randomness.*"
      ],
      "metadata": {
        "id": "O6tDwR7DiIJk"
      }
    },
    {
      "cell_type": "code",
      "source": [
        "fig, (ax1,ax2) = plt.subplots(1,2, figsize=(10,5))\n",
        "y_valPredictionRF = model_for_RandomForest.predict_proba(X_test)\n",
        "fpr, tpr, threshold = roc_curve(y_test,y_valPredictionRF[:,1])\n",
        "roc_auc = auc(fpr, tpr)\n",
        "\n",
        "RocCurveDisplay(fpr = fpr, tpr = tpr,roc_auc = roc_auc, estimator_name=\"RandomForest\").plot(ax=ax1)\n",
        "ax1.plot(ax1.get_xlim(), ax1.get_ylim(), color=\"red\", linestyle=\"--\")\n",
        "ax1.set_title(\"Random Forest ROC\")\n",
        "ax1.set_xlabel(\"FPR\")\n",
        "ax1.set_ylabel(\"TPR\")\n",
        "ax1.set_xlim(0,1)\n",
        "ax1.set_ylim(0,1)\n",
        "\n",
        "################################\n",
        "\n",
        "\n",
        "prec, rec, empty = precision_recall_curve(y_test, y_valPredictionRF[:,1])\n",
        "\n",
        "PrecisionRecallDisplay(precision=prec, recall = rec, estimator_name=\"Random Forest\").plot(ax = ax2)\n",
        "ax2.set_title(\"Random Forest Precision-Recall Curve\")"
      ],
      "metadata": {
        "id": "Y-J44R7viKtz",
        "colab": {
          "base_uri": "https://localhost:8080/",
          "height": 367
        },
        "outputId": "074c6dca-afa0-4beb-c8f6-013c4dd4ed44"
      },
      "execution_count": null,
      "outputs": [
        {
          "output_type": "execute_result",
          "data": {
            "text/plain": [
              "Text(0.5, 1.0, 'Random Forest Precision-Recall Curve')"
            ]
          },
          "metadata": {},
          "execution_count": 21
        },
        {
          "output_type": "display_data",
          "data": {
            "text/plain": [
              "<Figure size 720x360 with 2 Axes>"
            ],
            "image/png": "[encoded data removed]"
          },
          "metadata": {
            "needs_background": "light"
          }
        }
      ]
    }
  ]
}