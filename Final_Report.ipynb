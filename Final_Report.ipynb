{
  "nbformat": 4,
  "nbformat_minor": 0,
  "metadata": {
    "colab": {
      "provenance": [],
      "include_colab_link": true
    },
    "kernelspec": {
      "name": "python3",
      "display_name": "Python 3"
    },
    "language_info": {
      "name": "python"
    }
  },
  "cells": [
    {
      "cell_type": "markdown",
      "metadata": {
        "id": "view-in-github",
        "colab_type": "text"
      },
      "source": [
        "<a href=\"https://colab.research.google.com/github/eminbustun/CS210/blob/main/Final_Report.ipynb\" target=\"_parent\"><img src=\"https://colab.research.google.com/assets/colab-badge.svg\" alt=\"Open In Colab\"/></a>"
      ]
    },
    {
      "cell_type": "markdown",
      "source": [
        "##**IMDB Movies** \n"
      ],
      "metadata": {
        "id": "ofMVzwdsdBQ_"
      }
    },
    {
      "cell_type": "markdown",
      "source": [
        "Project Members:\n",
        "-------------------\n",
        "\n",
        "Bülent Emin Üstün - 27822\n",
        "\n",
        "Tolga Mert Çalışkan - 29335\n",
        "\n",
        "Ahmet Eren Çağatay - 29041\n",
        "\n",
        "Ataberk Cem Ünal - 29088\n",
        "\n",
        "Ataberk Uysal - 29213\n",
        "\n",
        "Umut Cevri - 29504\n"
      ],
      "metadata": {
        "id": "YwwIC66zdgB1"
      }
    },
    {
      "cell_type": "markdown",
      "source": [
        "# Introduction\n"
      ],
      "metadata": {
        "id": "faboyYCfdPVu"
      }
    },
    {
      "cell_type": "markdown",
      "source": [
        "As it was stated in the proposal report, our aim is to find the correlation between movie genres and the ratings in the given dataset. For each genre, we have collected its corresponding movie rating. After that, we are going to represent graph about the genre and rating. In addition, we have found the high rated genre combinations, by using these combinations we came to the conclusion of our hypothesis. At the end of the project, we accomplished a machine learing model."
      ],
      "metadata": {
        "id": "_fx6Rfp1dSB5"
      }
    },
    {
      "cell_type": "markdown",
      "source": [
        "# Problem Definiton\n"
      ],
      "metadata": {
        "id": "DQQwRdGud4qK"
      }
    },
    {
      "cell_type": "markdown",
      "source": [
        "In our dataset, we only see the movies, their genres and their ratings. Moreover, the dataset we use have some columns that are empty. The end goal of this project is we first fill the empty columns. After making this adjustments, we will find a correlation between ratings and genres. At the end, we will present a graph about the correlation and machine learning model.\n",
        "\n",
        "First, we will consider dropping the empty columns, even further we are going to drop some columns that we will not use. Secondly, with the help of pandas, numpy, and matplotlib library, we will find correlation between genre and rating, and provide graphs about this correlation. Finally, we will create machine learning model and conduct a hypothesis test. The end goal is whether there is any correlation between genre and rating."
      ],
      "metadata": {
        "id": "uiICsthbd8mr"
      }
    },
    {
      "cell_type": "markdown",
      "source": [
        "# Utilized Datasets\n"
      ],
      "metadata": {
        "id": "wzNuE3lQeTpT"
      }
    },
    {
      "cell_type": "markdown",
      "source": [
        "In this project, we will use the given\n",
        "dataset which is https://drive.google.com/file/d/1-1aZGfAlXgtn0gLfGpZdqXGGkfB_UbkG/view\n",
        ". This dataset has 993 observations. It has 14 columns with different headers which are Rank, Title, Genre, Descrition, Director, Actors, Year, Run Time(minutes), Rating, Votes, Revenue(millions), Metascore, IMDB ID and MovieLensID. The data types the columns are integer, object(string), object(string), object(string), object(string), object(string), integer, integer, float, float, integer, float, float, integer, and float respectively. Below bar chart represents movie numbers with corresponding genres."
      ],
      "metadata": {
        "id": "ewMtj1egeWYo"
      }
    },
    {
      "cell_type": "code",
      "source": [
        "import pandas as pd\n",
        "import numpy as np\n",
        "import matplotlib.pyplot as plt\n",
        "import seaborn as sns\n",
        "from os.path import join\n",
        "from matplotlib.backend_bases import key_press_handler\n",
        "\n",
        "%matplotlib inline"
      ],
      "metadata": {
        "id": "7KCsmmgRe6HV"
      },
      "execution_count": null,
      "outputs": []
    },
    {
      "cell_type": "code",
      "source": [
        "from google.colab import drive\n",
        "drive.mount(\"./drive\")"
      ],
      "metadata": {
        "colab": {
          "base_uri": "https://localhost:8080/"
        },
        "id": "CfhUilglfg5F",
        "outputId": "59ec5537-9e5c-4ed0-f41b-9f04dab557a5"
      },
      "execution_count": null,
      "outputs": [
        {
          "output_type": "stream",
          "name": "stdout",
          "text": [
            "Drive already mounted at ./drive; to attempt to forcibly remount, call drive.mount(\"./drive\", force_remount=True).\n"
          ]
        }
      ]
    },
    {
      "cell_type": "code",
      "source": [
        "fname = \"IMDB-Movie-Data-withID.csv\"\n",
        "path_prefix = './drive/My Drive/' \n",
        "df = pd.read_csv(join(path_prefix, fname))\n",
        "\n",
        "df.head(5)\n"
      ],
      "metadata": {
        "colab": {
          "base_uri": "https://localhost:8080/",
          "height": 354
        },
        "id": "Opl0Y_hffdky",
        "outputId": "3174e152-ac77-422f-b609-cd0becb615b5"
      },
      "execution_count": null,
      "outputs": [
        {
          "output_type": "execute_result",
          "data": {
            "text/plain": [
              "   Unnamed: 0  Rank                    Title                     Genre  \\\n",
              "0           0     1  Guardians of the Galaxy   Action,Adventure,Sci-Fi   \n",
              "1           1     2               Prometheus  Adventure,Mystery,Sci-Fi   \n",
              "2           2     3                    Split           Horror,Thriller   \n",
              "3           3     4                     Sing   Animation,Comedy,Family   \n",
              "4           4     5            Suicide Squad  Action,Adventure,Fantasy   \n",
              "\n",
              "                                         Description              Director  \\\n",
              "0  A group of intergalactic criminals are forced ...            James Gunn   \n",
              "1  Following clues to the origin of mankind, a te...          Ridley Scott   \n",
              "2  Three girls are kidnapped by a man with a diag...    M. Night Shyamalan   \n",
              "3  In a city of humanoid animals, a hustling thea...  Christophe Lourdelet   \n",
              "4  A secret government agency recruits some of th...            David Ayer   \n",
              "\n",
              "                                              Actors  Year  Runtime (Minutes)  \\\n",
              "0  Chris Pratt, Vin Diesel, Bradley Cooper, Zoe S...  2014                121   \n",
              "1  Noomi Rapace, Logan Marshall-Green, Michael Fa...  2012                124   \n",
              "2  James McAvoy, Anya Taylor-Joy, Haley Lu Richar...  2016                117   \n",
              "3  Matthew McConaughey,Reese Witherspoon, Seth Ma...  2016                108   \n",
              "4  Will Smith, Jared Leto, Margot Robbie, Viola D...  2016                123   \n",
              "\n",
              "   Rating   Votes  Revenue (Millions)  Metascore   imdbID  movieLensID  \n",
              "0     8.1  757074              333.13       76.0  2015381     112852.0  \n",
              "1     7.0  485820              126.46       65.0  1446714      94864.0  \n",
              "2     7.3  157606              138.12       62.0  4972582     166534.0  \n",
              "3     7.2   60545              270.32       59.0  3470600     167036.0  \n",
              "4     6.2  393727              325.02       40.0  1386697     135536.0  "
            ],
            "text/html": [
              "\n",
              "  <div id=\"df-affc8e8c-1155-4e32-967b-92f1e38f4a20\">\n",
              "    <div class=\"colab-df-container\">\n",
              "      <div>\n",
              "<style scoped>\n",
              "    .dataframe tbody tr th:only-of-type {\n",
              "        vertical-align: middle;\n",
              "    }\n",
              "\n",
              "    .dataframe tbody tr th {\n",
              "        vertical-align: top;\n",
              "    }\n",
              "\n",
              "    .dataframe thead th {\n",
              "        text-align: right;\n",
              "    }\n",
              "</style>\n",
              "<table border=\"1\" class=\"dataframe\">\n",
              "  <thead>\n",
              "    <tr style=\"text-align: right;\">\n",
              "      <th></th>\n",
              "      <th>Unnamed: 0</th>\n",
              "      <th>Rank</th>\n",
              "      <th>Title</th>\n",
              "      <th>Genre</th>\n",
              "      <th>Description</th>\n",
              "      <th>Director</th>\n",
              "      <th>Actors</th>\n",
              "      <th>Year</th>\n",
              "      <th>Runtime (Minutes)</th>\n",
              "      <th>Rating</th>\n",
              "      <th>Votes</th>\n",
              "      <th>Revenue (Millions)</th>\n",
              "      <th>Metascore</th>\n",
              "      <th>imdbID</th>\n",
              "      <th>movieLensID</th>\n",
              "    </tr>\n",
              "  </thead>\n",
              "  <tbody>\n",
              "    <tr>\n",
              "      <th>0</th>\n",
              "      <td>0</td>\n",
              "      <td>1</td>\n",
              "      <td>Guardians of the Galaxy</td>\n",
              "      <td>Action,Adventure,Sci-Fi</td>\n",
              "      <td>A group of intergalactic criminals are forced ...</td>\n",
              "      <td>James Gunn</td>\n",
              "      <td>Chris Pratt, Vin Diesel, Bradley Cooper, Zoe S...</td>\n",
              "      <td>2014</td>\n",
              "      <td>121</td>\n",
              "      <td>8.1</td>\n",
              "      <td>757074</td>\n",
              "      <td>333.13</td>\n",
              "      <td>76.0</td>\n",
              "      <td>2015381</td>\n",
              "      <td>112852.0</td>\n",
              "    </tr>\n",
              "    <tr>\n",
              "      <th>1</th>\n",
              "      <td>1</td>\n",
              "      <td>2</td>\n",
              "      <td>Prometheus</td>\n",
              "      <td>Adventure,Mystery,Sci-Fi</td>\n",
              "      <td>Following clues to the origin of mankind, a te...</td>\n",
              "      <td>Ridley Scott</td>\n",
              "      <td>Noomi Rapace, Logan Marshall-Green, Michael Fa...</td>\n",
              "      <td>2012</td>\n",
              "      <td>124</td>\n",
              "      <td>7.0</td>\n",
              "      <td>485820</td>\n",
              "      <td>126.46</td>\n",
              "      <td>65.0</td>\n",
              "      <td>1446714</td>\n",
              "      <td>94864.0</td>\n",
              "    </tr>\n",
              "    <tr>\n",
              "      <th>2</th>\n",
              "      <td>2</td>\n",
              "      <td>3</td>\n",
              "      <td>Split</td>\n",
              "      <td>Horror,Thriller</td>\n",
              "      <td>Three girls are kidnapped by a man with a diag...</td>\n",
              "      <td>M. Night Shyamalan</td>\n",
              "      <td>James McAvoy, Anya Taylor-Joy, Haley Lu Richar...</td>\n",
              "      <td>2016</td>\n",
              "      <td>117</td>\n",
              "      <td>7.3</td>\n",
              "      <td>157606</td>\n",
              "      <td>138.12</td>\n",
              "      <td>62.0</td>\n",
              "      <td>4972582</td>\n",
              "      <td>166534.0</td>\n",
              "    </tr>\n",
              "    <tr>\n",
              "      <th>3</th>\n",
              "      <td>3</td>\n",
              "      <td>4</td>\n",
              "      <td>Sing</td>\n",
              "      <td>Animation,Comedy,Family</td>\n",
              "      <td>In a city of humanoid animals, a hustling thea...</td>\n",
              "      <td>Christophe Lourdelet</td>\n",
              "      <td>Matthew McConaughey,Reese Witherspoon, Seth Ma...</td>\n",
              "      <td>2016</td>\n",
              "      <td>108</td>\n",
              "      <td>7.2</td>\n",
              "      <td>60545</td>\n",
              "      <td>270.32</td>\n",
              "      <td>59.0</td>\n",
              "      <td>3470600</td>\n",
              "      <td>167036.0</td>\n",
              "    </tr>\n",
              "    <tr>\n",
              "      <th>4</th>\n",
              "      <td>4</td>\n",
              "      <td>5</td>\n",
              "      <td>Suicide Squad</td>\n",
              "      <td>Action,Adventure,Fantasy</td>\n",
              "      <td>A secret government agency recruits some of th...</td>\n",
              "      <td>David Ayer</td>\n",
              "      <td>Will Smith, Jared Leto, Margot Robbie, Viola D...</td>\n",
              "      <td>2016</td>\n",
              "      <td>123</td>\n",
              "      <td>6.2</td>\n",
              "      <td>393727</td>\n",
              "      <td>325.02</td>\n",
              "      <td>40.0</td>\n",
              "      <td>1386697</td>\n",
              "      <td>135536.0</td>\n",
              "    </tr>\n",
              "  </tbody>\n",
              "</table>\n",
              "</div>\n",
              "      <button class=\"colab-df-convert\" onclick=\"convertToInteractive('df-affc8e8c-1155-4e32-967b-92f1e38f4a20')\"\n",
              "              title=\"Convert this dataframe to an interactive table.\"\n",
              "              style=\"display:none;\">\n",
              "        \n",
              "  <svg xmlns=\"http://www.w3.org/2000/svg\" height=\"24px\"viewBox=\"0 0 24 24\"\n",
              "       width=\"24px\">\n",
              "    <path d=\"M0 0h24v24H0V0z\" fill=\"none\"/>\n",
              "    <path d=\"M18.56 5.44l.94 2.06.94-2.06 2.06-.94-2.06-.94-.94-2.06-.94 2.06-2.06.94zm-11 1L8.5 8.5l.94-2.06 2.06-.94-2.06-.94L8.5 2.5l-.94 2.06-2.06.94zm10 10l.94 2.06.94-2.06 2.06-.94-2.06-.94-.94-2.06-.94 2.06-2.06.94z\"/><path d=\"M17.41 7.96l-1.37-1.37c-.4-.4-.92-.59-1.43-.59-.52 0-1.04.2-1.43.59L10.3 9.45l-7.72 7.72c-.78.78-.78 2.05 0 2.83L4 21.41c.39.39.9.59 1.41.59.51 0 1.02-.2 1.41-.59l7.78-7.78 2.81-2.81c.8-.78.8-2.07 0-2.86zM5.41 20L4 18.59l7.72-7.72 1.47 1.35L5.41 20z\"/>\n",
              "  </svg>\n",
              "      </button>\n",
              "      \n",
              "  <style>\n",
              "    .colab-df-container {\n",
              "      display:flex;\n",
              "      flex-wrap:wrap;\n",
              "      gap: 12px;\n",
              "    }\n",
              "\n",
              "    .colab-df-convert {\n",
              "      background-color: #E8F0FE;\n",
              "      border: none;\n",
              "      border-radius: 50%;\n",
              "      cursor: pointer;\n",
              "      display: none;\n",
              "      fill: #1967D2;\n",
              "      height: 32px;\n",
              "      padding: 0 0 0 0;\n",
              "      width: 32px;\n",
              "    }\n",
              "\n",
              "    .colab-df-convert:hover {\n",
              "      background-color: #E2EBFA;\n",
              "      box-shadow: 0px 1px 2px rgba(60, 64, 67, 0.3), 0px 1px 3px 1px rgba(60, 64, 67, 0.15);\n",
              "      fill: #174EA6;\n",
              "    }\n",
              "\n",
              "    [theme=dark] .colab-df-convert {\n",
              "      background-color: #3B4455;\n",
              "      fill: #D2E3FC;\n",
              "    }\n",
              "\n",
              "    [theme=dark] .colab-df-convert:hover {\n",
              "      background-color: #434B5C;\n",
              "      box-shadow: 0px 1px 3px 1px rgba(0, 0, 0, 0.15);\n",
              "      filter: drop-shadow(0px 1px 2px rgba(0, 0, 0, 0.3));\n",
              "      fill: #FFFFFF;\n",
              "    }\n",
              "  </style>\n",
              "\n",
              "      <script>\n",
              "        const buttonEl =\n",
              "          document.querySelector('#df-affc8e8c-1155-4e32-967b-92f1e38f4a20 button.colab-df-convert');\n",
              "        buttonEl.style.display =\n",
              "          google.colab.kernel.accessAllowed ? 'block' : 'none';\n",
              "\n",
              "        async function convertToInteractive(key) {\n",
              "          const element = document.querySelector('#df-affc8e8c-1155-4e32-967b-92f1e38f4a20');\n",
              "          const dataTable =\n",
              "            await google.colab.kernel.invokeFunction('convertToInteractive',\n",
              "                                                     [key], {});\n",
              "          if (!dataTable) return;\n",
              "\n",
              "          const docLinkHtml = 'Like what you see? Visit the ' +\n",
              "            '<a target=\"_blank\" href=https://colab.research.google.com/notebooks/data_table.ipynb>data table notebook</a>'\n",
              "            + ' to learn more about interactive tables.';\n",
              "          element.innerHTML = '';\n",
              "          dataTable['output_type'] = 'display_data';\n",
              "          await google.colab.output.renderOutput(dataTable, element);\n",
              "          const docLink = document.createElement('div');\n",
              "          docLink.innerHTML = docLinkHtml;\n",
              "          element.appendChild(docLink);\n",
              "        }\n",
              "      </script>\n",
              "    </div>\n",
              "  </div>\n",
              "  "
            ]
          },
          "metadata": {},
          "execution_count": 3
        }
      ]
    },
    {
      "cell_type": "code",
      "source": [
        "df.describe()"
      ],
      "metadata": {
        "colab": {
          "base_uri": "https://localhost:8080/",
          "height": 300
        },
        "id": "PKBpJH9pf-8x",
        "outputId": "968c1319-1fd7-43e4-cbc8-5b4191dbfe8e"
      },
      "execution_count": null,
      "outputs": [
        {
          "output_type": "execute_result",
          "data": {
            "text/plain": [
              "       Unnamed: 0         Rank         Year  Runtime (Minutes)     Rating  \\\n",
              "count   993.00000   993.000000   993.000000         993.000000  993.00000   \n",
              "mean    496.00000   500.813696  2012.790534         113.191339    6.72578   \n",
              "std     286.79871   288.401092     3.206664          18.848977    0.93964   \n",
              "min       0.00000     1.000000  2006.000000          66.000000    1.90000   \n",
              "25%     248.00000   251.000000  2010.000000         100.000000    6.20000   \n",
              "50%     496.00000   501.000000  2014.000000         110.000000    6.80000   \n",
              "75%     744.00000   749.000000  2016.000000         123.000000    7.40000   \n",
              "max     992.00000  1000.000000  2016.000000         191.000000    9.00000   \n",
              "\n",
              "              Votes  Revenue (Millions)   Metascore        imdbID  \\\n",
              "count  9.930000e+02          866.000000  930.000000  9.930000e+02   \n",
              "mean   1.703585e+05           83.414677   58.965591  2.085602e+06   \n",
              "std    1.892393e+05          103.459652   17.214686  1.354632e+06   \n",
              "min    6.100000e+01            0.000000   11.000000  2.066340e+05   \n",
              "25%    3.630000e+04           13.650000   47.000000  1.059786e+06   \n",
              "50%    1.115580e+05           48.150000   59.000000  1.703957e+06   \n",
              "75%    2.413590e+05          115.132500   72.000000  2.937696e+06   \n",
              "max    1.791916e+06          936.630000  100.000000  7.371706e+06   \n",
              "\n",
              "         movieLensID  \n",
              "count     993.000000  \n",
              "mean   114666.293051  \n",
              "std     39546.213349  \n",
              "min     44193.000000  \n",
              "25%     82459.000000  \n",
              "50%    111743.000000  \n",
              "75%    155846.000000  \n",
              "max    206351.000000  "
            ],
            "text/html": [
              "\n",
              "  <div id=\"df-4f4902f7-3a8f-40fe-b40c-865f63d45c16\">\n",
              "    <div class=\"colab-df-container\">\n",
              "      <div>\n",
              "<style scoped>\n",
              "    .dataframe tbody tr th:only-of-type {\n",
              "        vertical-align: middle;\n",
              "    }\n",
              "\n",
              "    .dataframe tbody tr th {\n",
              "        vertical-align: top;\n",
              "    }\n",
              "\n",
              "    .dataframe thead th {\n",
              "        text-align: right;\n",
              "    }\n",
              "</style>\n",
              "<table border=\"1\" class=\"dataframe\">\n",
              "  <thead>\n",
              "    <tr style=\"text-align: right;\">\n",
              "      <th></th>\n",
              "      <th>Unnamed: 0</th>\n",
              "      <th>Rank</th>\n",
              "      <th>Year</th>\n",
              "      <th>Runtime (Minutes)</th>\n",
              "      <th>Rating</th>\n",
              "      <th>Votes</th>\n",
              "      <th>Revenue (Millions)</th>\n",
              "      <th>Metascore</th>\n",
              "      <th>imdbID</th>\n",
              "      <th>movieLensID</th>\n",
              "    </tr>\n",
              "  </thead>\n",
              "  <tbody>\n",
              "    <tr>\n",
              "      <th>count</th>\n",
              "      <td>993.00000</td>\n",
              "      <td>993.000000</td>\n",
              "      <td>993.000000</td>\n",
              "      <td>993.000000</td>\n",
              "      <td>993.00000</td>\n",
              "      <td>9.930000e+02</td>\n",
              "      <td>866.000000</td>\n",
              "      <td>930.000000</td>\n",
              "      <td>9.930000e+02</td>\n",
              "      <td>993.000000</td>\n",
              "    </tr>\n",
              "    <tr>\n",
              "      <th>mean</th>\n",
              "      <td>496.00000</td>\n",
              "      <td>500.813696</td>\n",
              "      <td>2012.790534</td>\n",
              "      <td>113.191339</td>\n",
              "      <td>6.72578</td>\n",
              "      <td>1.703585e+05</td>\n",
              "      <td>83.414677</td>\n",
              "      <td>58.965591</td>\n",
              "      <td>2.085602e+06</td>\n",
              "      <td>114666.293051</td>\n",
              "    </tr>\n",
              "    <tr>\n",
              "      <th>std</th>\n",
              "      <td>286.79871</td>\n",
              "      <td>288.401092</td>\n",
              "      <td>3.206664</td>\n",
              "      <td>18.848977</td>\n",
              "      <td>0.93964</td>\n",
              "      <td>1.892393e+05</td>\n",
              "      <td>103.459652</td>\n",
              "      <td>17.214686</td>\n",
              "      <td>1.354632e+06</td>\n",
              "      <td>39546.213349</td>\n",
              "    </tr>\n",
              "    <tr>\n",
              "      <th>min</th>\n",
              "      <td>0.00000</td>\n",
              "      <td>1.000000</td>\n",
              "      <td>2006.000000</td>\n",
              "      <td>66.000000</td>\n",
              "      <td>1.90000</td>\n",
              "      <td>6.100000e+01</td>\n",
              "      <td>0.000000</td>\n",
              "      <td>11.000000</td>\n",
              "      <td>2.066340e+05</td>\n",
              "      <td>44193.000000</td>\n",
              "    </tr>\n",
              "    <tr>\n",
              "      <th>25%</th>\n",
              "      <td>248.00000</td>\n",
              "      <td>251.000000</td>\n",
              "      <td>2010.000000</td>\n",
              "      <td>100.000000</td>\n",
              "      <td>6.20000</td>\n",
              "      <td>3.630000e+04</td>\n",
              "      <td>13.650000</td>\n",
              "      <td>47.000000</td>\n",
              "      <td>1.059786e+06</td>\n",
              "      <td>82459.000000</td>\n",
              "    </tr>\n",
              "    <tr>\n",
              "      <th>50%</th>\n",
              "      <td>496.00000</td>\n",
              "      <td>501.000000</td>\n",
              "      <td>2014.000000</td>\n",
              "      <td>110.000000</td>\n",
              "      <td>6.80000</td>\n",
              "      <td>1.115580e+05</td>\n",
              "      <td>48.150000</td>\n",
              "      <td>59.000000</td>\n",
              "      <td>1.703957e+06</td>\n",
              "      <td>111743.000000</td>\n",
              "    </tr>\n",
              "    <tr>\n",
              "      <th>75%</th>\n",
              "      <td>744.00000</td>\n",
              "      <td>749.000000</td>\n",
              "      <td>2016.000000</td>\n",
              "      <td>123.000000</td>\n",
              "      <td>7.40000</td>\n",
              "      <td>2.413590e+05</td>\n",
              "      <td>115.132500</td>\n",
              "      <td>72.000000</td>\n",
              "      <td>2.937696e+06</td>\n",
              "      <td>155846.000000</td>\n",
              "    </tr>\n",
              "    <tr>\n",
              "      <th>max</th>\n",
              "      <td>992.00000</td>\n",
              "      <td>1000.000000</td>\n",
              "      <td>2016.000000</td>\n",
              "      <td>191.000000</td>\n",
              "      <td>9.00000</td>\n",
              "      <td>1.791916e+06</td>\n",
              "      <td>936.630000</td>\n",
              "      <td>100.000000</td>\n",
              "      <td>7.371706e+06</td>\n",
              "      <td>206351.000000</td>\n",
              "    </tr>\n",
              "  </tbody>\n",
              "</table>\n",
              "</div>\n",
              "      <button class=\"colab-df-convert\" onclick=\"convertToInteractive('df-4f4902f7-3a8f-40fe-b40c-865f63d45c16')\"\n",
              "              title=\"Convert this dataframe to an interactive table.\"\n",
              "              style=\"display:none;\">\n",
              "        \n",
              "  <svg xmlns=\"http://www.w3.org/2000/svg\" height=\"24px\"viewBox=\"0 0 24 24\"\n",
              "       width=\"24px\">\n",
              "    <path d=\"M0 0h24v24H0V0z\" fill=\"none\"/>\n",
              "    <path d=\"M18.56 5.44l.94 2.06.94-2.06 2.06-.94-2.06-.94-.94-2.06-.94 2.06-2.06.94zm-11 1L8.5 8.5l.94-2.06 2.06-.94-2.06-.94L8.5 2.5l-.94 2.06-2.06.94zm10 10l.94 2.06.94-2.06 2.06-.94-2.06-.94-.94-2.06-.94 2.06-2.06.94z\"/><path d=\"M17.41 7.96l-1.37-1.37c-.4-.4-.92-.59-1.43-.59-.52 0-1.04.2-1.43.59L10.3 9.45l-7.72 7.72c-.78.78-.78 2.05 0 2.83L4 21.41c.39.39.9.59 1.41.59.51 0 1.02-.2 1.41-.59l7.78-7.78 2.81-2.81c.8-.78.8-2.07 0-2.86zM5.41 20L4 18.59l7.72-7.72 1.47 1.35L5.41 20z\"/>\n",
              "  </svg>\n",
              "      </button>\n",
              "      \n",
              "  <style>\n",
              "    .colab-df-container {\n",
              "      display:flex;\n",
              "      flex-wrap:wrap;\n",
              "      gap: 12px;\n",
              "    }\n",
              "\n",
              "    .colab-df-convert {\n",
              "      background-color: #E8F0FE;\n",
              "      border: none;\n",
              "      border-radius: 50%;\n",
              "      cursor: pointer;\n",
              "      display: none;\n",
              "      fill: #1967D2;\n",
              "      height: 32px;\n",
              "      padding: 0 0 0 0;\n",
              "      width: 32px;\n",
              "    }\n",
              "\n",
              "    .colab-df-convert:hover {\n",
              "      background-color: #E2EBFA;\n",
              "      box-shadow: 0px 1px 2px rgba(60, 64, 67, 0.3), 0px 1px 3px 1px rgba(60, 64, 67, 0.15);\n",
              "      fill: #174EA6;\n",
              "    }\n",
              "\n",
              "    [theme=dark] .colab-df-convert {\n",
              "      background-color: #3B4455;\n",
              "      fill: #D2E3FC;\n",
              "    }\n",
              "\n",
              "    [theme=dark] .colab-df-convert:hover {\n",
              "      background-color: #434B5C;\n",
              "      box-shadow: 0px 1px 3px 1px rgba(0, 0, 0, 0.15);\n",
              "      filter: drop-shadow(0px 1px 2px rgba(0, 0, 0, 0.3));\n",
              "      fill: #FFFFFF;\n",
              "    }\n",
              "  </style>\n",
              "\n",
              "      <script>\n",
              "        const buttonEl =\n",
              "          document.querySelector('#df-4f4902f7-3a8f-40fe-b40c-865f63d45c16 button.colab-df-convert');\n",
              "        buttonEl.style.display =\n",
              "          google.colab.kernel.accessAllowed ? 'block' : 'none';\n",
              "\n",
              "        async function convertToInteractive(key) {\n",
              "          const element = document.querySelector('#df-4f4902f7-3a8f-40fe-b40c-865f63d45c16');\n",
              "          const dataTable =\n",
              "            await google.colab.kernel.invokeFunction('convertToInteractive',\n",
              "                                                     [key], {});\n",
              "          if (!dataTable) return;\n",
              "\n",
              "          const docLinkHtml = 'Like what you see? Visit the ' +\n",
              "            '<a target=\"_blank\" href=https://colab.research.google.com/notebooks/data_table.ipynb>data table notebook</a>'\n",
              "            + ' to learn more about interactive tables.';\n",
              "          element.innerHTML = '';\n",
              "          dataTable['output_type'] = 'display_data';\n",
              "          await google.colab.output.renderOutput(dataTable, element);\n",
              "          const docLink = document.createElement('div');\n",
              "          docLink.innerHTML = docLinkHtml;\n",
              "          element.appendChild(docLink);\n",
              "        }\n",
              "      </script>\n",
              "    </div>\n",
              "  </div>\n",
              "  "
            ]
          },
          "metadata": {},
          "execution_count": 4
        }
      ]
    },
    {
      "cell_type": "code",
      "source": [
        "df.info()"
      ],
      "metadata": {
        "colab": {
          "base_uri": "https://localhost:8080/"
        },
        "id": "enPVCwRXgAqT",
        "outputId": "86ca2d94-6150-4330-cfea-510a44abebab"
      },
      "execution_count": null,
      "outputs": [
        {
          "output_type": "stream",
          "name": "stdout",
          "text": [
            "<class 'pandas.core.frame.DataFrame'>\n",
            "RangeIndex: 993 entries, 0 to 992\n",
            "Data columns (total 15 columns):\n",
            " #   Column              Non-Null Count  Dtype  \n",
            "---  ------              --------------  -----  \n",
            " 0   Unnamed: 0          993 non-null    int64  \n",
            " 1   Rank                993 non-null    int64  \n",
            " 2   Title               993 non-null    object \n",
            " 3   Genre               993 non-null    object \n",
            " 4   Description         993 non-null    object \n",
            " 5   Director            993 non-null    object \n",
            " 6   Actors              993 non-null    object \n",
            " 7   Year                993 non-null    int64  \n",
            " 8   Runtime (Minutes)   993 non-null    int64  \n",
            " 9   Rating              993 non-null    float64\n",
            " 10  Votes               993 non-null    int64  \n",
            " 11  Revenue (Millions)  866 non-null    float64\n",
            " 12  Metascore           930 non-null    float64\n",
            " 13  imdbID              993 non-null    int64  \n",
            " 14  movieLensID         993 non-null    float64\n",
            "dtypes: float64(4), int64(6), object(5)\n",
            "memory usage: 116.5+ KB\n"
          ]
        }
      ]
    },
    {
      "cell_type": "markdown",
      "source": [
        "As you can see there is a unnecessary row named Unnamed: 0. We will get rid of this row since it has no use. \n"
      ],
      "metadata": {
        "id": "0YP6f31ZgFbP"
      }
    },
    {
      "cell_type": "code",
      "source": [
        "df = df.drop(['Unnamed: 0'], axis=1)\n",
        "#df = df.reset_index()"
      ],
      "metadata": {
        "id": "ZOLQJ-RYgb2o"
      },
      "execution_count": null,
      "outputs": []
    },
    {
      "cell_type": "markdown",
      "source": [
        "Now, let's see if there are any null values. If there are, we will get rid of them."
      ],
      "metadata": {
        "id": "UwiaiCspgzHe"
      }
    },
    {
      "cell_type": "code",
      "source": [
        "sns.heatmap(df.isnull(), cbar=False)\n",
        "plt.show()"
      ],
      "metadata": {
        "colab": {
          "base_uri": "https://localhost:8080/",
          "height": 352
        },
        "id": "aqu1NizKghpt",
        "outputId": "5bc6843d-ff47-4834-ed86-1ede69f412ef"
      },
      "execution_count": null,
      "outputs": [
        {
          "output_type": "display_data",
          "data": {
            "text/plain": [
              "<Figure size 432x288 with 1 Axes>"
            ],
            "image/png": "[encoded data removed]"
          },
          "metadata": {
            "needs_background": "light"
          }
        }
      ]
    },
    {
      "cell_type": "code",
      "source": [
        "df = df.dropna()\n",
        "sns.heatmap(df.isnull(), cbar=False)\n",
        "plt.show()\n",
        "\n",
        "# There are no null values."
      ],
      "metadata": {
        "colab": {
          "base_uri": "https://localhost:8080/",
          "height": 352
        },
        "id": "ksD9DAZzg9NG",
        "outputId": "22fb3beb-1735-4136-bc89-26689fb68fd8"
      },
      "execution_count": null,
      "outputs": [
        {
          "output_type": "display_data",
          "data": {
            "text/plain": [
              "<Figure size 432x288 with 1 Axes>"
            ],
            "image/png": "[encoded data removed]"
          },
          "metadata": {
            "needs_background": "light"
          }
        }
      ]
    },
    {
      "cell_type": "markdown",
      "source": [
        "# Data Exploration\n"
      ],
      "metadata": {
        "id": "sXLaAAJEhoy3"
      }
    },
    {
      "cell_type": "markdown",
      "source": [
        "We utilized only one dataset which we provided the link on the above. We consider that this dataset is highly useful for our project.\n",
        "\n",
        "\n"
      ],
      "metadata": {
        "id": "tyfFriHMhw56"
      }
    },
    {
      "cell_type": "markdown",
      "source": [
        "# Exploratory Data Analysis\n",
        "\n",
        "\n",
        "\n",
        "> Visualizations and Charts\n",
        "\n",
        "\n"
      ],
      "metadata": {
        "id": "nlLKd3kviH1x"
      }
    },
    {
      "cell_type": "markdown",
      "source": [
        "We prepared different charts to present a better experience for the users.Such as;\n",
        "\n",
        "- Average movie rating of corresponding genre\n",
        "- Boxplots\n",
        "\n",
        "\n"
      ],
      "metadata": {
        "id": "OsfCTatKiXn2"
      }
    },
    {
      "cell_type": "markdown",
      "source": [
        "Number of Movies and their Genres\n",
        "----------------------"
      ],
      "metadata": {
        "id": "rOg0AP33j5nM"
      }
    },
    {
      "cell_type": "code",
      "source": [
        "\n",
        "df_copy = df.copy()\n",
        "\n",
        "dct = {}\n",
        "\n",
        "for i in df_copy[\"Genre\"]:\n",
        "\n",
        "  \n",
        "\n",
        "  for k in i.split(\",\"):\n",
        "\n",
        "    if k in dct.keys():\n",
        "      dct[k] += 1\n",
        "\n",
        "    else:\n",
        "      dct[k] = 1 \n",
        "\n",
        "names = list(dct.keys())\n",
        "values = list(dct.values())\n",
        "plt.figure(figsize=(12,10))\n",
        "plt.barh(range(len(dct)), values, tick_label=names)\n",
        "plt.title(\"Number of Movies with their Corresponding Genres\")\n",
        "plt.xticks(rotation = 30)\n",
        "plt.grid()\n",
        "plt.savefig(\"bar_chart.png\")\n",
        "plt.show()\n",
        "plt.close()\n"
      ],
      "metadata": {
        "colab": {
          "base_uri": "https://localhost:8080/",
          "height": 616
        },
        "id": "rHVSIcrZj40F",
        "outputId": "e2b633a0-97c0-4701-87ce-bbaf80143629"
      },
      "execution_count": null,
      "outputs": [
        {
          "output_type": "display_data",
          "data": {
            "text/plain": [
              "<Figure size 864x720 with 1 Axes>"
            ],
            "image/png": "[encoded data removed]"
          },
          "metadata": {
            "needs_background": "light"
          }
        }
      ]
    },
    {
      "cell_type": "markdown",
      "source": [
        "**Genres and their Average Movie Ratings**"
      ],
      "metadata": {
        "id": "NIiv2U-ElA2w"
      }
    },
    {
      "cell_type": "code",
      "source": [
        "df_copy = df.copy()\n",
        "df_copy = df_copy.reset_index()\n",
        "dct1 = {}\n",
        "for i in dct.keys():\n",
        "  if i not in dct1.keys():\n",
        "    dct1[i] = 0\n",
        "\n",
        "\n",
        "for i in range(df_copy.shape[0]):\n",
        "  df_copy[\"Genre\"][i] = df_copy[\"Genre\"][i].split(\",\")\n",
        "  for k in df_copy[\"Genre\"][i]:\n",
        "    if k in dct1.keys():\n",
        "      dct1[k] += df_copy[\"Rating\"][i]\n",
        "\n",
        "      \n",
        "for i in dct:\n",
        " dct1[i] = (dct1[i] / dct[i])\n",
        "\n",
        "values1 = list(dct1.values())\n",
        "names1 = list(dct1.keys())\n",
        "plt.figure(figsize=(12,10))\n",
        "plt.barh(names1, values1, tick_label=names1)\n",
        "\n",
        "plt.title(\"Genres and Their Average Movie Ratings\")\n",
        "plt.xticks(rotation = 30)\n",
        "plt.savefig(\"bar_chart1.png\")\n",
        "plt.grid()\n",
        "plt.show()\n",
        "\n"
      ],
      "metadata": {
        "colab": {
          "base_uri": "https://localhost:8080/",
          "height": 696
        },
        "id": "7xUp593gk9W1",
        "outputId": "e7547fa5-346b-4156-9bd2-fad80f446981"
      },
      "execution_count": null,
      "outputs": [
        {
          "output_type": "stream",
          "name": "stderr",
          "text": [
            "<ipython-input-10-88c88f779a13>:10: SettingWithCopyWarning: \n",
            "A value is trying to be set on a copy of a slice from a DataFrame\n",
            "\n",
            "See the caveats in the documentation: https://pandas.pydata.org/pandas-docs/stable/user_guide/indexing.html#returning-a-view-versus-a-copy\n",
            "  df_copy[\"Genre\"][i] = df_copy[\"Genre\"][i].split(\",\")\n"
          ]
        },
        {
          "output_type": "display_data",
          "data": {
            "text/plain": [
              "<Figure size 864x720 with 1 Axes>"
            ],
            "image/png": "[encoded data removed]"
          },
          "metadata": {
            "needs_background": "light"
          }
        }
      ]
    },
    {
      "cell_type": "markdown",
      "source": [
        "The distribution of `Rating` column"
      ],
      "metadata": {
        "id": "tlheSaSel-qj"
      }
    },
    {
      "cell_type": "code",
      "source": [
        "ax = sns.distplot(df['Rating'])\n",
        "ax.set_title(\"Movie Rating Distribution\")\n",
        "ax.grid()\n",
        "plt.show()"
      ],
      "metadata": {
        "colab": {
          "base_uri": "https://localhost:8080/",
          "height": 350
        },
        "id": "X7uyM5mnmRKi",
        "outputId": "729b3ac1-a775-427a-b4b4-8df18f181adf"
      },
      "execution_count": null,
      "outputs": [
        {
          "output_type": "stream",
          "name": "stderr",
          "text": [
            "/usr/local/lib/python3.8/dist-packages/seaborn/distributions.py:2619: FutureWarning: `distplot` is a deprecated function and will be removed in a future version. Please adapt your code to use either `displot` (a figure-level function with similar flexibility) or `histplot` (an axes-level function for histograms).\n",
            "  warnings.warn(msg, FutureWarning)\n"
          ]
        },
        {
          "output_type": "display_data",
          "data": {
            "text/plain": [
              "<Figure size 432x288 with 1 Axes>"
            ],
            "image/png": "[encoded data removed]"
          },
          "metadata": {
            "needs_background": "light"
          }
        }
      ]
    },
    {
      "cell_type": "markdown",
      "source": [
        "Distribution of Metascore and Ratings column"
      ],
      "metadata": {
        "id": "Re7w0B4aVkqg"
      }
    },
    {
      "cell_type": "code",
      "source": [
        "fig, axes = plt.subplots(1,2)\n",
        "# plot IMDB Ratings distribution, its mean, and median\n",
        "axes[0].set_title('Distribution of Ratings')\n",
        "axes[0].hist(df['Rating'], alpha=0.3, density=True)\n",
        "axes[0].axvline(df['Rating'].mean(), 0, 1, c='r')\n",
        "axes[0].axvline(df['Rating'].median(), 0, 1, c='b')\n",
        "\n",
        "axes[1].set_title('Dist. of Metascore Rating')\n",
        "axes[1].hist(df['Metascore'], alpha=0.3, density=True)\n",
        "axes[1].axvline(df['Metascore'].mean(), 0, 1, c='r')\n",
        "axes[1].axvline(df['Metascore'].median(), 0, 1, c='b')\n",
        "\n",
        "plt.tight_layout()\n",
        "plt.show()"
      ],
      "metadata": {
        "colab": {
          "base_uri": "https://localhost:8080/",
          "height": 297
        },
        "id": "HhSH92WCUWDh",
        "outputId": "fffbd75d-c0ab-4a46-9c38-7ce27727de34"
      },
      "execution_count": null,
      "outputs": [
        {
          "output_type": "display_data",
          "data": {
            "text/plain": [
              "<Figure size 432x288 with 2 Axes>"
            ],
            "image/png": "[encoded data removed]"
          },
          "metadata": {
            "needs_background": "light"
          }
        }
      ]
    },
    {
      "cell_type": "markdown",
      "source": [
        "**We look for outliers both upper and lower bound.**\n",
        "\n",
        "\n"
      ],
      "metadata": {
        "id": "-2Dvfv0zjpnO"
      }
    },
    {
      "cell_type": "code",
      "source": [
        "import warnings\n",
        "\n",
        "fig, axes = plt.subplots(1, 2, figsize=(15,5))\n",
        "p = df['Rating'].values\n",
        "Q1 = np.percentile(p, 25)\n",
        "Q3 = np.percentile(p, 75)\n",
        "IQR = Q3 - Q1\n",
        "\n",
        "\n",
        "n = p[p < (Q1 - 1.5 * IQR)]\n",
        "\n",
        "outliers = p[p > (Q3 + 1.5 * IQR)]\n",
        "\n",
        "sns.distplot(n, ax=axes[0])\n",
        "axes[0].set_title(\"Rating < Q1 - 1.5 * IQR\")\n",
        "axes[0].grid()\n",
        "\n",
        "sns.distplot(outliers, ax=axes[1])\n",
        "axes[1].set_title(\"Rating > Q3 + 1.5 * IQR\")\n",
        "axes[1].grid()\n",
        "fig.show()\n",
        "\n",
        "\n",
        "#for removing warnings\n",
        "warnings.filterwarnings(\"ignore\", category=RuntimeWarning) \n",
        "warnings.filterwarnings(\"ignore\", category=FutureWarning) \n",
        "\n",
        "plt.show()"
      ],
      "metadata": {
        "colab": {
          "base_uri": "https://localhost:8080/",
          "height": 530
        },
        "id": "Tyq0QngBooFB",
        "outputId": "4299b0ac-b759-4c9d-b604-4e73ce4e8fba"
      },
      "execution_count": null,
      "outputs": [
        {
          "output_type": "stream",
          "name": "stderr",
          "text": [
            "/usr/local/lib/python3.8/dist-packages/seaborn/distributions.py:2619: FutureWarning: `distplot` is a deprecated function and will be removed in a future version. Please adapt your code to use either `displot` (a figure-level function with similar flexibility) or `histplot` (an axes-level function for histograms).\n",
            "  warnings.warn(msg, FutureWarning)\n",
            "/usr/local/lib/python3.8/dist-packages/seaborn/distributions.py:2619: FutureWarning: `distplot` is a deprecated function and will be removed in a future version. Please adapt your code to use either `displot` (a figure-level function with similar flexibility) or `histplot` (an axes-level function for histograms).\n",
            "  warnings.warn(msg, FutureWarning)\n",
            "/usr/local/lib/python3.8/dist-packages/seaborn/distributions.py:2657: RuntimeWarning: Mean of empty slice.\n",
            "  line, = ax.plot(a.mean(), 0)\n",
            "/usr/local/lib/python3.8/dist-packages/numpy/core/_methods.py:189: RuntimeWarning: invalid value encountered in double_scalars\n",
            "  ret = ret.dtype.type(ret / rcount)\n",
            "/usr/local/lib/python3.8/dist-packages/numpy/lib/histograms.py:906: RuntimeWarning: invalid value encountered in true_divide\n",
            "  return n/db/n.sum(), bin_edges\n"
          ]
        },
        {
          "output_type": "display_data",
          "data": {
            "text/plain": [
              "<Figure size 1080x360 with 2 Axes>"
            ],
            "image/png": "[encoded data removed]"
          },
          "metadata": {
            "needs_background": "light"
          }
        }
      ]
    },
    {
      "cell_type": "markdown",
      "source": [
        "**Let's make a boxplot if we have any outliers and we can see how it is skewed.**"
      ],
      "metadata": {
        "id": "5vfj_wI4mnI-"
      }
    },
    {
      "cell_type": "code",
      "source": [
        "# WITH OUTLIERS\n",
        "\n",
        "fig = plt.figure()\n",
        "\n",
        "plt.boxplot(df[['Rating']].T)\n",
        "plt.title(\"Boxplot of Rating Column\")\n",
        "plt.grid()\n",
        "plt.show()"
      ],
      "metadata": {
        "colab": {
          "base_uri": "https://localhost:8080/",
          "height": 281
        },
        "id": "gaTZnPmGmxLW",
        "outputId": "4a6185ac-17aa-4d6a-aaf1-9f6e750eb38a"
      },
      "execution_count": null,
      "outputs": [
        {
          "output_type": "display_data",
          "data": {
            "text/plain": [
              "<Figure size 432x288 with 1 Axes>"
            ],
            "image/png": "[encoded data removed]"
          },
          "metadata": {
            "needs_background": "light"
          }
        }
      ]
    },
    {
      "cell_type": "markdown",
      "source": [
        "Eliminating the outliers"
      ],
      "metadata": {
        "id": "eP7gyHoJXr5X"
      }
    },
    {
      "cell_type": "code",
      "source": [
        "#Eliminate outliers\n",
        "LOW_POINT = Q1 - 1.5 * IQR\n",
        "MAX_POINT = Q3 + 1.5 * IQR\n",
        "\n",
        "df = df[(df[\"Rating\"] > LOW_POINT) & (df[\"Rating\"] < MAX_POINT)]\n",
        "df.reset_index(inplace= True,drop=True);"
      ],
      "metadata": {
        "id": "YH87EQeVXrEY"
      },
      "execution_count": null,
      "outputs": []
    },
    {
      "cell_type": "markdown",
      "source": [
        "The boxplot without any outliers."
      ],
      "metadata": {
        "id": "0PFLBjyxX5ox"
      }
    },
    {
      "cell_type": "code",
      "source": [
        "fig = plt.figure()\n",
        "plt.boxplot(df[['Rating']].T)\n",
        "plt.title(\"Boxplot of Rating Column\")\n",
        "plt.grid()\n",
        "plt.show()"
      ],
      "metadata": {
        "colab": {
          "base_uri": "https://localhost:8080/",
          "height": 281
        },
        "id": "nGLMdieGX1X9",
        "outputId": "2c6f8e72-b141-4d11-f31e-cfd3ee61c939"
      },
      "execution_count": null,
      "outputs": [
        {
          "output_type": "display_data",
          "data": {
            "text/plain": [
              "<Figure size 432x288 with 1 Axes>"
            ],
            "image/png": "[encoded data removed]"
          },
          "metadata": {
            "needs_background": "light"
          }
        }
      ]
    },
    {
      "cell_type": "markdown",
      "source": [],
      "metadata": {
        "id": "pjKGKbl3c3xk"
      }
    },
    {
      "cell_type": "code",
      "source": [
        "fig, axes = plt.subplots(1, 2, figsize=(15,5))\n",
        "p = df['Rating'].values\n",
        "Q1 = np.percentile(p, 25)\n",
        "Q3 = np.percentile(p, 75)\n",
        "IQR = Q3 - Q1\n",
        "\n",
        "\n",
        "n = p[p < (Q1 - 1.5 * IQR)]\n",
        "\n",
        "outliers = p[p > (Q3 + 1.5 * IQR)]\n",
        "\n",
        "sns.distplot(n, ax=axes[0])\n",
        "axes[0].set_title(\"Rating < 1.5 * IQR\")\n",
        "axes[0].grid()\n",
        "\n",
        "sns.distplot(outliers, ax=axes[1])\n",
        "axes[1].set_title(\"Rating >= 1.5 * IQR\")\n",
        "axes[1].grid()\n",
        "fig.show()"
      ],
      "metadata": {
        "colab": {
          "base_uri": "https://localhost:8080/",
          "height": 336
        },
        "id": "_44Xxma7cBHR",
        "outputId": "9a80c596-933e-46a9-bd05-19630358fe7d"
      },
      "execution_count": null,
      "outputs": [
        {
          "output_type": "display_data",
          "data": {
            "text/plain": [
              "<Figure size 1080x360 with 2 Axes>"
            ],
            "image/png": "[encoded data removed]"
          },
          "metadata": {
            "needs_background": "light"
          }
        }
      ]
    },
    {
      "cell_type": "code",
      "source": [
        "fig, axes = plt.subplots(figsize=(15,5))\n",
        "n = p[(p > (Q1 - 1.5 * IQR)) & (p < (Q3 + 1.5 * IQR))]\n",
        "sns.distplot(n)\n",
        "axes.set_title(\"IQR\")\n",
        "axes.grid()"
      ],
      "metadata": {
        "colab": {
          "base_uri": "https://localhost:8080/",
          "height": 336
        },
        "id": "e7p7eREsdD5x",
        "outputId": "da4eec84-7218-420b-bc91-65c395c8fb80"
      },
      "execution_count": null,
      "outputs": [
        {
          "output_type": "display_data",
          "data": {
            "text/plain": [
              "<Figure size 1080x360 with 1 Axes>"
            ],
            "image/png": "[encoded data removed]"
          },
          "metadata": {
            "needs_background": "light"
          }
        }
      ]
    },
    {
      "cell_type": "markdown",
      "source": [
        "**Correlation between columns**"
      ],
      "metadata": {
        "id": "kAwx4lCIhIgW"
      }
    },
    {
      "cell_type": "code",
      "source": [
        "corr = df.drop([\"Rank\",\"Title\",\"Description\",\"Director\",\"Actors\", \"Year\", \"imdbID\",\"movieLensID\"],axis=1).corr()\n",
        "corr_vals = corr.values\n",
        "\n",
        "fig = plt.figure()\n",
        "plt.imshow(corr_vals,cmap=\"Reds\")\n",
        "\n",
        "plt.yticks(range(len(corr.columns)),corr.columns)\n",
        "plt.xticks(range(len(corr.columns)),corr.columns,rotation=90)\n",
        "\n",
        "plt.colorbar()\n",
        "plt.show()"
      ],
      "metadata": {
        "colab": {
          "base_uri": "https://localhost:8080/",
          "height": 351
        },
        "id": "dJ3EFX1yhLYF",
        "outputId": "36088bb1-797c-4477-827c-139d87801f7b"
      },
      "execution_count": null,
      "outputs": [
        {
          "output_type": "display_data",
          "data": {
            "text/plain": [
              "<Figure size 432x288 with 2 Axes>"
            ],
            "image/png": "[encoded data removed]"
          },
          "metadata": {
            "needs_background": "light"
          }
        }
      ]
    },
    {
      "cell_type": "markdown",
      "source": [
        "Genre Combinations and their Average Movie Ratings. In this part we masked the database to gain combinations. Moreover, we only take account of the combinations that are higher than 10. "
      ],
      "metadata": {
        "id": "cw8fgICb8-FY"
      }
    },
    {
      "cell_type": "code",
      "source": [
        "count = df.groupby('Genre')['Genre'].count()\n",
        "df_n = df.groupby('Genre').filter(lambda x: x['Genre'].count() >= 5)\n",
        "mask = df_n['Genre'].str.contains(\",\")\n",
        "df_n = df_n.loc[mask]\n",
        "plt.figure(figsize=(10,10))\n",
        "genre_ratings = df_n.groupby('Genre')['Rating'].mean()\n",
        "genre_ratings = genre_ratings.sort_values(ascending=False)\n",
        "ax = sns.barplot(y=genre_ratings.index, x=genre_ratings.values, palette='YlOrRd')\n",
        "ax.set_xlabel('Rating')\n",
        "ax.set_xticks(np.arange(0, 11, 0.5))\n",
        "\n",
        "plt.show()"
      ],
      "metadata": {
        "colab": {
          "base_uri": "https://localhost:8080/",
          "height": 606
        },
        "id": "oOgT5iXK89yn",
        "outputId": "0c9de3fe-0273-42d7-e8cc-78329b388e1c"
      },
      "execution_count": null,
      "outputs": [
        {
          "output_type": "display_data",
          "data": {
            "text/plain": [
              "<Figure size 720x720 with 1 Axes>"
            ],
            "image/png": "[encoded data removed]"
          },
          "metadata": {
            "needs_background": "light"
          }
        }
      ]
    },
    {
      "cell_type": "markdown",
      "source": [
        "# Test Statistic\n",
        "\n",
        "Null Hypothesis (H0): There is no correlation between genre and movie rating.\n",
        "\n",
        "Alternative Hypothesis (H1): There is a correlation between genre and movie rating.\n",
        "\n",
        "We take alpha (level of significance) as 0.05."
      ],
      "metadata": {
        "id": "KKt1Z_HWwFkH"
      }
    },
    {
      "cell_type": "code",
      "source": [
        "#Creating new data frame takes every genre type as column.\n",
        "\n",
        "genrdict = {}\n",
        "df = df.dropna().reset_index()\n",
        "titles = df[\"Title\"]\n",
        "\n",
        "for i in df[\"Genre\"]:\n",
        "\n",
        "  i = i.split(\",\")\n",
        "\n",
        "  for k in i:\n",
        "\n",
        "    if k not in genrdict.keys():\n",
        "      genrdict[k] = [0 for i in range(len(titles))]\n",
        "\n",
        "for q in range(len(df[\"Genre\"])) :\n",
        "  df[\"Genre\"][q] = df[\"Genre\"][q].split(\",\")\n",
        "\n",
        "genrelist = list(genrdict.keys())\n",
        "\n",
        "for x in range(len(genrelist)) :\n",
        "\n",
        "  for y in range(len(df[\"Genre\"])) :\n",
        "    \n",
        "    \n",
        "    for z in range(len(df[\"Genre\"][y])) :\n",
        "      # print(df[\"Genre\"][y][z])\n",
        "\n",
        "      if genrelist[x] == df[\"Genre\"][y][z] :\n",
        "        genrdict[genrelist[x]][y] = 1 \n",
        "\n",
        "df_dict = pd.DataFrame(genrdict,index = titles)    \n",
        "\n",
        "df_dict = df_dict.reset_index()\n",
        "\n",
        "ratings = df['Rating']\n",
        "\n",
        "\n",
        "\n",
        "df_dict['Rating'] = ratings"
      ],
      "metadata": {
        "colab": {
          "base_uri": "https://localhost:8080/"
        },
        "id": "-g5RL3jQ0zHL",
        "outputId": "b39ba88f-e7e4-49ee-a0ca-60d60389a785"
      },
      "execution_count": null,
      "outputs": [
        {
          "output_type": "stream",
          "name": "stderr",
          "text": [
            "<ipython-input-21-e54fb48447b0>:17: SettingWithCopyWarning: \n",
            "A value is trying to be set on a copy of a slice from a DataFrame\n",
            "\n",
            "See the caveats in the documentation: https://pandas.pydata.org/pandas-docs/stable/user_guide/indexing.html#returning-a-view-versus-a-copy\n",
            "  df[\"Genre\"][q] = df[\"Genre\"][q].split(\",\")\n"
          ]
        }
      ]
    },
    {
      "cell_type": "code",
      "source": [
        "df_dict_cop = df_dict.copy()\n",
        "\n",
        "df_dict_cop = df_dict_cop.round(0)\n",
        "\n",
        "df_dict_cop"
      ],
      "metadata": {
        "colab": {
          "base_uri": "https://localhost:8080/",
          "height": 424
        },
        "id": "Q8gHO0Ms2uHZ",
        "outputId": "cfca917f-2fa3-4c81-87e8-f280484f1d82"
      },
      "execution_count": null,
      "outputs": [
        {
          "output_type": "execute_result",
          "data": {
            "text/plain": [
              "                        Title  Action  Adventure  Sci-Fi  Mystery  Horror  \\\n",
              "0     Guardians of the Galaxy       1          1       1        0       0   \n",
              "1                  Prometheus       0          1       1        1       0   \n",
              "2                       Split       0          0       0        0       1   \n",
              "3                        Sing       0          0       0        0       0   \n",
              "4               Suicide Squad       1          1       0        0       0   \n",
              "..                        ...     ...        ...     ...      ...     ...   \n",
              "818  Resident Evil: Afterlife       1          1       0        0       1   \n",
              "819                 Project X       0          0       0        0       0   \n",
              "820           Hostel: Part II       0          0       0        0       1   \n",
              "821    Step Up 2: The Streets       0          0       0        0       0   \n",
              "822                Nine Lives       0          0       0        0       0   \n",
              "\n",
              "     Thriller  Animation  Comedy  Family  ...  Music  Biography  Romance  \\\n",
              "0           0          0       0       0  ...      0          0        0   \n",
              "1           0          0       0       0  ...      0          0        0   \n",
              "2           1          0       0       0  ...      0          0        0   \n",
              "3           0          1       1       1  ...      0          0        0   \n",
              "4           0          0       0       0  ...      0          0        0   \n",
              "..        ...        ...     ...     ...  ...    ...        ...      ...   \n",
              "818         0          0       0       0  ...      0          0        0   \n",
              "819         0          0       1       0  ...      0          0        0   \n",
              "820         0          0       0       0  ...      0          0        0   \n",
              "821         0          0       0       0  ...      1          0        1   \n",
              "822         0          0       1       1  ...      0          0        0   \n",
              "\n",
              "     History  Western  Crime  War  Musical  Sport  Rating  \n",
              "0          0        0      0    0        0      0     8.0  \n",
              "1          0        0      0    0        0      0     7.0  \n",
              "2          0        0      0    0        0      0     7.0  \n",
              "3          0        0      0    0        0      0     7.0  \n",
              "4          0        0      0    0        0      0     6.0  \n",
              "..       ...      ...    ...  ...      ...    ...     ...  \n",
              "818        0        0      0    0        0      0     6.0  \n",
              "819        0        0      0    0        0      0     7.0  \n",
              "820        0        0      0    0        0      0     6.0  \n",
              "821        0        0      0    0        0      0     6.0  \n",
              "822        0        0      0    0        0      0     5.0  \n",
              "\n",
              "[823 rows x 22 columns]"
            ],
            "text/html": [
              "\n",
              "  <div id=\"df-4485ef94-31cd-49b8-9463-1ef087f87444\">\n",
              "    <div class=\"colab-df-container\">\n",
              "      <div>\n",
              "<style scoped>\n",
              "    .dataframe tbody tr th:only-of-type {\n",
              "        vertical-align: middle;\n",
              "    }\n",
              "\n",
              "    .dataframe tbody tr th {\n",
              "        vertical-align: top;\n",
              "    }\n",
              "\n",
              "    .dataframe thead th {\n",
              "        text-align: right;\n",
              "    }\n",
              "</style>\n",
              "<table border=\"1\" class=\"dataframe\">\n",
              "  <thead>\n",
              "    <tr style=\"text-align: right;\">\n",
              "      <th></th>\n",
              "      <th>Title</th>\n",
              "      <th>Action</th>\n",
              "      <th>Adventure</th>\n",
              "      <th>Sci-Fi</th>\n",
              "      <th>Mystery</th>\n",
              "      <th>Horror</th>\n",
              "      <th>Thriller</th>\n",
              "      <th>Animation</th>\n",
              "      <th>Comedy</th>\n",
              "      <th>Family</th>\n",
              "      <th>...</th>\n",
              "      <th>Music</th>\n",
              "      <th>Biography</th>\n",
              "      <th>Romance</th>\n",
              "      <th>History</th>\n",
              "      <th>Western</th>\n",
              "      <th>Crime</th>\n",
              "      <th>War</th>\n",
              "      <th>Musical</th>\n",
              "      <th>Sport</th>\n",
              "      <th>Rating</th>\n",
              "    </tr>\n",
              "  </thead>\n",
              "  <tbody>\n",
              "    <tr>\n",
              "      <th>0</th>\n",
              "      <td>Guardians of the Galaxy</td>\n",
              "      <td>1</td>\n",
              "      <td>1</td>\n",
              "      <td>1</td>\n",
              "      <td>0</td>\n",
              "      <td>0</td>\n",
              "      <td>0</td>\n",
              "      <td>0</td>\n",
              "      <td>0</td>\n",
              "      <td>0</td>\n",
              "      <td>...</td>\n",
              "      <td>0</td>\n",
              "      <td>0</td>\n",
              "      <td>0</td>\n",
              "      <td>0</td>\n",
              "      <td>0</td>\n",
              "      <td>0</td>\n",
              "      <td>0</td>\n",
              "      <td>0</td>\n",
              "      <td>0</td>\n",
              "      <td>8.0</td>\n",
              "    </tr>\n",
              "    <tr>\n",
              "      <th>1</th>\n",
              "      <td>Prometheus</td>\n",
              "      <td>0</td>\n",
              "      <td>1</td>\n",
              "      <td>1</td>\n",
              "      <td>1</td>\n",
              "      <td>0</td>\n",
              "      <td>0</td>\n",
              "      <td>0</td>\n",
              "      <td>0</td>\n",
              "      <td>0</td>\n",
              "      <td>...</td>\n",
              "      <td>0</td>\n",
              "      <td>0</td>\n",
              "      <td>0</td>\n",
              "      <td>0</td>\n",
              "      <td>0</td>\n",
              "      <td>0</td>\n",
              "      <td>0</td>\n",
              "      <td>0</td>\n",
              "      <td>0</td>\n",
              "      <td>7.0</td>\n",
              "    </tr>\n",
              "    <tr>\n",
              "      <th>2</th>\n",
              "      <td>Split</td>\n",
              "      <td>0</td>\n",
              "      <td>0</td>\n",
              "      <td>0</td>\n",
              "      <td>0</td>\n",
              "      <td>1</td>\n",
              "      <td>1</td>\n",
              "      <td>0</td>\n",
              "      <td>0</td>\n",
              "      <td>0</td>\n",
              "      <td>...</td>\n",
              "      <td>0</td>\n",
              "      <td>0</td>\n",
              "      <td>0</td>\n",
              "      <td>0</td>\n",
              "      <td>0</td>\n",
              "      <td>0</td>\n",
              "      <td>0</td>\n",
              "      <td>0</td>\n",
              "      <td>0</td>\n",
              "      <td>7.0</td>\n",
              "    </tr>\n",
              "    <tr>\n",
              "      <th>3</th>\n",
              "      <td>Sing</td>\n",
              "      <td>0</td>\n",
              "      <td>0</td>\n",
              "      <td>0</td>\n",
              "      <td>0</td>\n",
              "      <td>0</td>\n",
              "      <td>0</td>\n",
              "      <td>1</td>\n",
              "      <td>1</td>\n",
              "      <td>1</td>\n",
              "      <td>...</td>\n",
              "      <td>0</td>\n",
              "      <td>0</td>\n",
              "      <td>0</td>\n",
              "      <td>0</td>\n",
              "      <td>0</td>\n",
              "      <td>0</td>\n",
              "      <td>0</td>\n",
              "      <td>0</td>\n",
              "      <td>0</td>\n",
              "      <td>7.0</td>\n",
              "    </tr>\n",
              "    <tr>\n",
              "      <th>4</th>\n",
              "      <td>Suicide Squad</td>\n",
              "      <td>1</td>\n",
              "      <td>1</td>\n",
              "      <td>0</td>\n",
              "      <td>0</td>\n",
              "      <td>0</td>\n",
              "      <td>0</td>\n",
              "      <td>0</td>\n",
              "      <td>0</td>\n",
              "      <td>0</td>\n",
              "      <td>...</td>\n",
              "      <td>0</td>\n",
              "      <td>0</td>\n",
              "      <td>0</td>\n",
              "      <td>0</td>\n",
              "      <td>0</td>\n",
              "      <td>0</td>\n",
              "      <td>0</td>\n",
              "      <td>0</td>\n",
              "      <td>0</td>\n",
              "      <td>6.0</td>\n",
              "    </tr>\n",
              "    <tr>\n",
              "      <th>...</th>\n",
              "      <td>...</td>\n",
              "      <td>...</td>\n",
              "      <td>...</td>\n",
              "      <td>...</td>\n",
              "      <td>...</td>\n",
              "      <td>...</td>\n",
              "      <td>...</td>\n",
              "      <td>...</td>\n",
              "      <td>...</td>\n",
              "      <td>...</td>\n",
              "      <td>...</td>\n",
              "      <td>...</td>\n",
              "      <td>...</td>\n",
              "      <td>...</td>\n",
              "      <td>...</td>\n",
              "      <td>...</td>\n",
              "      <td>...</td>\n",
              "      <td>...</td>\n",
              "      <td>...</td>\n",
              "      <td>...</td>\n",
              "      <td>...</td>\n",
              "    </tr>\n",
              "    <tr>\n",
              "      <th>818</th>\n",
              "      <td>Resident Evil: Afterlife</td>\n",
              "      <td>1</td>\n",
              "      <td>1</td>\n",
              "      <td>0</td>\n",
              "      <td>0</td>\n",
              "      <td>1</td>\n",
              "      <td>0</td>\n",
              "      <td>0</td>\n",
              "      <td>0</td>\n",
              "      <td>0</td>\n",
              "      <td>...</td>\n",
              "      <td>0</td>\n",
              "      <td>0</td>\n",
              "      <td>0</td>\n",
              "      <td>0</td>\n",
              "      <td>0</td>\n",
              "      <td>0</td>\n",
              "      <td>0</td>\n",
              "      <td>0</td>\n",
              "      <td>0</td>\n",
              "      <td>6.0</td>\n",
              "    </tr>\n",
              "    <tr>\n",
              "      <th>819</th>\n",
              "      <td>Project X</td>\n",
              "      <td>0</td>\n",
              "      <td>0</td>\n",
              "      <td>0</td>\n",
              "      <td>0</td>\n",
              "      <td>0</td>\n",
              "      <td>0</td>\n",
              "      <td>0</td>\n",
              "      <td>1</td>\n",
              "      <td>0</td>\n",
              "      <td>...</td>\n",
              "      <td>0</td>\n",
              "      <td>0</td>\n",
              "      <td>0</td>\n",
              "      <td>0</td>\n",
              "      <td>0</td>\n",
              "      <td>0</td>\n",
              "      <td>0</td>\n",
              "      <td>0</td>\n",
              "      <td>0</td>\n",
              "      <td>7.0</td>\n",
              "    </tr>\n",
              "    <tr>\n",
              "      <th>820</th>\n",
              "      <td>Hostel: Part II</td>\n",
              "      <td>0</td>\n",
              "      <td>0</td>\n",
              "      <td>0</td>\n",
              "      <td>0</td>\n",
              "      <td>1</td>\n",
              "      <td>0</td>\n",
              "      <td>0</td>\n",
              "      <td>0</td>\n",
              "      <td>0</td>\n",
              "      <td>...</td>\n",
              "      <td>0</td>\n",
              "      <td>0</td>\n",
              "      <td>0</td>\n",
              "      <td>0</td>\n",
              "      <td>0</td>\n",
              "      <td>0</td>\n",
              "      <td>0</td>\n",
              "      <td>0</td>\n",
              "      <td>0</td>\n",
              "      <td>6.0</td>\n",
              "    </tr>\n",
              "    <tr>\n",
              "      <th>821</th>\n",
              "      <td>Step Up 2: The Streets</td>\n",
              "      <td>0</td>\n",
              "      <td>0</td>\n",
              "      <td>0</td>\n",
              "      <td>0</td>\n",
              "      <td>0</td>\n",
              "      <td>0</td>\n",
              "      <td>0</td>\n",
              "      <td>0</td>\n",
              "      <td>0</td>\n",
              "      <td>...</td>\n",
              "      <td>1</td>\n",
              "      <td>0</td>\n",
              "      <td>1</td>\n",
              "      <td>0</td>\n",
              "      <td>0</td>\n",
              "      <td>0</td>\n",
              "      <td>0</td>\n",
              "      <td>0</td>\n",
              "      <td>0</td>\n",
              "      <td>6.0</td>\n",
              "    </tr>\n",
              "    <tr>\n",
              "      <th>822</th>\n",
              "      <td>Nine Lives</td>\n",
              "      <td>0</td>\n",
              "      <td>0</td>\n",
              "      <td>0</td>\n",
              "      <td>0</td>\n",
              "      <td>0</td>\n",
              "      <td>0</td>\n",
              "      <td>0</td>\n",
              "      <td>1</td>\n",
              "      <td>1</td>\n",
              "      <td>...</td>\n",
              "      <td>0</td>\n",
              "      <td>0</td>\n",
              "      <td>0</td>\n",
              "      <td>0</td>\n",
              "      <td>0</td>\n",
              "      <td>0</td>\n",
              "      <td>0</td>\n",
              "      <td>0</td>\n",
              "      <td>0</td>\n",
              "      <td>5.0</td>\n",
              "    </tr>\n",
              "  </tbody>\n",
              "</table>\n",
              "<p>823 rows × 22 columns</p>\n",
              "</div>\n",
              "      <button class=\"colab-df-convert\" onclick=\"convertToInteractive('df-4485ef94-31cd-49b8-9463-1ef087f87444')\"\n",
              "              title=\"Convert this dataframe to an interactive table.\"\n",
              "              style=\"display:none;\">\n",
              "        \n",
              "  <svg xmlns=\"http://www.w3.org/2000/svg\" height=\"24px\"viewBox=\"0 0 24 24\"\n",
              "       width=\"24px\">\n",
              "    <path d=\"M0 0h24v24H0V0z\" fill=\"none\"/>\n",
              "    <path d=\"M18.56 5.44l.94 2.06.94-2.06 2.06-.94-2.06-.94-.94-2.06-.94 2.06-2.06.94zm-11 1L8.5 8.5l.94-2.06 2.06-.94-2.06-.94L8.5 2.5l-.94 2.06-2.06.94zm10 10l.94 2.06.94-2.06 2.06-.94-2.06-.94-.94-2.06-.94 2.06-2.06.94z\"/><path d=\"M17.41 7.96l-1.37-1.37c-.4-.4-.92-.59-1.43-.59-.52 0-1.04.2-1.43.59L10.3 9.45l-7.72 7.72c-.78.78-.78 2.05 0 2.83L4 21.41c.39.39.9.59 1.41.59.51 0 1.02-.2 1.41-.59l7.78-7.78 2.81-2.81c.8-.78.8-2.07 0-2.86zM5.41 20L4 18.59l7.72-7.72 1.47 1.35L5.41 20z\"/>\n",
              "  </svg>\n",
              "      </button>\n",
              "      \n",
              "  <style>\n",
              "    .colab-df-container {\n",
              "      display:flex;\n",
              "      flex-wrap:wrap;\n",
              "      gap: 12px;\n",
              "    }\n",
              "\n",
              "    .colab-df-convert {\n",
              "      background-color: #E8F0FE;\n",
              "      border: none;\n",
              "      border-radius: 50%;\n",
              "      cursor: pointer;\n",
              "      display: none;\n",
              "      fill: #1967D2;\n",
              "      height: 32px;\n",
              "      padding: 0 0 0 0;\n",
              "      width: 32px;\n",
              "    }\n",
              "\n",
              "    .colab-df-convert:hover {\n",
              "      background-color: #E2EBFA;\n",
              "      box-shadow: 0px 1px 2px rgba(60, 64, 67, 0.3), 0px 1px 3px 1px rgba(60, 64, 67, 0.15);\n",
              "      fill: #174EA6;\n",
              "    }\n",
              "\n",
              "    [theme=dark] .colab-df-convert {\n",
              "      background-color: #3B4455;\n",
              "      fill: #D2E3FC;\n",
              "    }\n",
              "\n",
              "    [theme=dark] .colab-df-convert:hover {\n",
              "      background-color: #434B5C;\n",
              "      box-shadow: 0px 1px 3px 1px rgba(0, 0, 0, 0.15);\n",
              "      filter: drop-shadow(0px 1px 2px rgba(0, 0, 0, 0.3));\n",
              "      fill: #FFFFFF;\n",
              "    }\n",
              "  </style>\n",
              "\n",
              "      <script>\n",
              "        const buttonEl =\n",
              "          document.querySelector('#df-4485ef94-31cd-49b8-9463-1ef087f87444 button.colab-df-convert');\n",
              "        buttonEl.style.display =\n",
              "          google.colab.kernel.accessAllowed ? 'block' : 'none';\n",
              "\n",
              "        async function convertToInteractive(key) {\n",
              "          const element = document.querySelector('#df-4485ef94-31cd-49b8-9463-1ef087f87444');\n",
              "          const dataTable =\n",
              "            await google.colab.kernel.invokeFunction('convertToInteractive',\n",
              "                                                     [key], {});\n",
              "          if (!dataTable) return;\n",
              "\n",
              "          const docLinkHtml = 'Like what you see? Visit the ' +\n",
              "            '<a target=\"_blank\" href=https://colab.research.google.com/notebooks/data_table.ipynb>data table notebook</a>'\n",
              "            + ' to learn more about interactive tables.';\n",
              "          element.innerHTML = '';\n",
              "          dataTable['output_type'] = 'display_data';\n",
              "          await google.colab.output.renderOutput(dataTable, element);\n",
              "          const docLink = document.createElement('div');\n",
              "          docLink.innerHTML = docLinkHtml;\n",
              "          element.appendChild(docLink);\n",
              "        }\n",
              "      </script>\n",
              "    </div>\n",
              "  </div>\n",
              "  "
            ]
          },
          "metadata": {},
          "execution_count": 23
        }
      ]
    },
    {
      "cell_type": "code",
      "source": [
        "from scipy.stats import ttest_1samp\n",
        "from scipy import stats\n",
        "mean = round(df['Rating'].mean(),2)\n",
        "\n",
        "std = round(df['Rating'].std(),2)\n",
        "\n",
        "n = len(df)\n",
        "\n",
        "offset = 4 * std\n",
        "\n",
        "x = np.linspace(mean - offset, mean + offset, n)\n",
        "\n",
        "y = stats.norm.pdf(x,mean,std)\n",
        "\n",
        "plt.figure(figsize=(10,5))\n",
        "\n",
        "plt.plot(x,y)\n",
        "\n",
        "plt.grid()\n",
        "\n",
        "plt.xlabel(\"x\")\n",
        "plt.ylabel(\"Normal Distribution\")\n",
        "\n",
        "plt.fill_between(x, y, alpha=0.1, color=\"b\")\n",
        "plt.title(f\"Normal Dist. with Mean {mean}, Std {std}\")\n",
        "plt.show()"
      ],
      "metadata": {
        "colab": {
          "base_uri": "https://localhost:8080/",
          "height": 350
        },
        "id": "c5TD6xAC0hZf",
        "outputId": "4dd96f66-b833-4000-cc31-5eeedf9a3e6b"
      },
      "execution_count": null,
      "outputs": [
        {
          "output_type": "display_data",
          "data": {
            "text/plain": [
              "<Figure size 720x360 with 1 Axes>"
            ],
            "image/png": "[encoded data removed]"
          },
          "metadata": {
            "needs_background": "light"
          }
        }
      ]
    },
    {
      "cell_type": "markdown",
      "source": [
        "We tested our hypotheses with chi-square distribution.\n"
      ],
      "metadata": {
        "id": "9Bn9fMxo0k8H"
      }
    },
    {
      "cell_type": "code",
      "source": [
        "from scipy.stats import chi2_contingency\n",
        "\n",
        "ls = [\"Action\",\"Adventure\",\"Sci-Fi\",\"Mystery\",\"Horror\",\"Thriller\",\"Animation\",\"Comedy\",\"Family\",\"Fantasy\",\"Drama\",\"Music\",\"Biography\",\"Romance\",\"History\",\"Western\",\"Crime\", \"War\",\"Musical\"]\n",
        "\n",
        "alpha = 0.05\n",
        "\n",
        "for i in ls:\n",
        "\n",
        "  contingency = pd.crosstab(df_dict_cop[i], df_dict_cop[\"Rating\"])\n",
        "\n",
        "  chi, pval, dof, thrash = chi2_contingency(contingency)\n",
        "\n",
        "\n",
        "  \n",
        "  \n",
        "\n",
        "\n",
        "  if pval < alpha:\n",
        "    print(\"There is a correlation between\", i ,\"and its movie ratings.\")\n",
        "  else:\n",
        "    print(\"There is no correlation between\", i ,\"and its movie ratings.\")\n",
        "\n",
        "\n",
        "\n"
      ],
      "metadata": {
        "colab": {
          "base_uri": "https://localhost:8080/"
        },
        "id": "Rmpu0ejg0pCy",
        "outputId": "1b9853f5-c694-47b7-d4c2-15f920a9628f"
      },
      "execution_count": null,
      "outputs": [
        {
          "output_type": "stream",
          "name": "stdout",
          "text": [
            "There is a correlation between Action and its movie ratings.\n",
            "There is no correlation between Adventure and its movie ratings.\n",
            "There is no correlation between Sci-Fi and its movie ratings.\n",
            "There is no correlation between Mystery and its movie ratings.\n",
            "There is a correlation between Horror and its movie ratings.\n",
            "There is no correlation between Thriller and its movie ratings.\n",
            "There is a correlation between Animation and its movie ratings.\n",
            "There is no correlation between Comedy and its movie ratings.\n",
            "There is no correlation between Family and its movie ratings.\n",
            "There is no correlation between Fantasy and its movie ratings.\n",
            "There is a correlation between Drama and its movie ratings.\n",
            "There is no correlation between Music and its movie ratings.\n",
            "There is a correlation between Biography and its movie ratings.\n",
            "There is no correlation between Romance and its movie ratings.\n",
            "There is a correlation between History and its movie ratings.\n",
            "There is no correlation between Western and its movie ratings.\n",
            "There is no correlation between Crime and its movie ratings.\n",
            "There is a correlation between War and its movie ratings.\n",
            "There is no correlation between Musical and its movie ratings.\n"
          ]
        }
      ]
    },
    {
      "cell_type": "markdown",
      "source": [
        "From the above output. It can be said that there is no correlation between movie genre and its ratings. However, in the Machine Learning part, we will look more detailed"
      ],
      "metadata": {
        "id": "hAg2OXqF2Mx5"
      }
    },
    {
      "cell_type": "markdown",
      "source": [
        "# Machine Learning\n",
        "\n",
        "In machine learning part, we implemented only Regression since what we want to predict is continuous variable."
      ],
      "metadata": {
        "id": "b6y7aLXwKSF8"
      }
    },
    {
      "cell_type": "markdown",
      "source": [
        "##Step 1: Genre \n",
        "In our dataset, the genre column was not efficient for applying a machine learning method. That's why, we created an another dataframe from our previous dataset."
      ],
      "metadata": {
        "id": "v8IprL7KK1Iv"
      }
    },
    {
      "cell_type": "code",
      "source": [
        "#Creating new data frame takes every genre type as column.\n",
        "df_copyE = df.copy()\n",
        "\n",
        "genrdict = {}\n",
        "#df = df.dropna().reset_index()\n",
        "titles = df_copyE[\"Title\"]\n",
        "\n",
        "for i in df_copyE[\"Genre\"]:\n",
        "\n",
        "  #i = i.split(\",\")\n",
        "\n",
        "  for k in i:\n",
        "\n",
        "    if k not in genrdict.keys():\n",
        "      genrdict[k] = [0 for i in range(len(titles))]\n",
        "\n",
        "\n",
        "\n",
        "genrelist = list(genrdict.keys())\n",
        "\n",
        "for x in range(len(genrelist)) :\n",
        "\n",
        "  for y in range(len(df_copyE[\"Genre\"])) :\n",
        "    \n",
        "    \n",
        "    for z in range(len(df_copyE[\"Genre\"][y])) :\n",
        "      # print(df[\"Genre\"][y][z])\n",
        "\n",
        "      if genrelist[x] == df_copyE[\"Genre\"][y][z] :\n",
        "        genrdict[genrelist[x]][y] = 1 \n",
        "\n",
        "df_dict = pd.DataFrame(genrdict,index = titles)       \n"
      ],
      "metadata": {
        "id": "DQHxlQ0XK615"
      },
      "execution_count": null,
      "outputs": []
    },
    {
      "cell_type": "code",
      "source": [
        "df_dict.head(10)\n",
        "\n",
        "# In this dataset, we didn't use reset_index method because we did not want it to be used for machine learning process"
      ],
      "metadata": {
        "colab": {
          "base_uri": "https://localhost:8080/",
          "height": 394
        },
        "id": "BMcRAZC4L7sR",
        "outputId": "881af02f-83ae-4a1a-f38e-6f4ffc910a5b"
      },
      "execution_count": null,
      "outputs": [
        {
          "output_type": "execute_result",
          "data": {
            "text/plain": [
              "                                         Action  Adventure  Sci-Fi  Mystery  \\\n",
              "Title                                                                         \n",
              "Guardians of the Galaxy                       1          1       1        0   \n",
              "Prometheus                                    0          1       1        1   \n",
              "Split                                         0          0       0        0   \n",
              "Sing                                          0          0       0        0   \n",
              "Suicide Squad                                 1          1       0        0   \n",
              "The Great Wall                                1          1       0        0   \n",
              "La La Land                                    0          0       0        0   \n",
              "The Lost City of Z                            1          1       0        0   \n",
              "Passengers                                    0          1       0        0   \n",
              "Fantastic Beasts and Where to Find Them       0          1       0        0   \n",
              "\n",
              "                                         Horror  Thriller  Animation  Comedy  \\\n",
              "Title                                                                          \n",
              "Guardians of the Galaxy                       0         0          0       0   \n",
              "Prometheus                                    0         0          0       0   \n",
              "Split                                         1         1          0       0   \n",
              "Sing                                          0         0          1       1   \n",
              "Suicide Squad                                 0         0          0       0   \n",
              "The Great Wall                                0         0          0       0   \n",
              "La La Land                                    0         0          0       1   \n",
              "The Lost City of Z                            0         0          0       0   \n",
              "Passengers                                    0         0          0       0   \n",
              "Fantastic Beasts and Where to Find Them       0         0          0       0   \n",
              "\n",
              "                                         Family  Fantasy  Drama  Music  \\\n",
              "Title                                                                    \n",
              "Guardians of the Galaxy                       0        0      0      0   \n",
              "Prometheus                                    0        0      0      0   \n",
              "Split                                         0        0      0      0   \n",
              "Sing                                          1        0      0      0   \n",
              "Suicide Squad                                 0        1      0      0   \n",
              "The Great Wall                                0        1      0      0   \n",
              "La La Land                                    0        0      1      1   \n",
              "The Lost City of Z                            0        0      0      0   \n",
              "Passengers                                    0        0      1      0   \n",
              "Fantastic Beasts and Where to Find Them       1        1      0      0   \n",
              "\n",
              "                                         Biography  Romance  History  Western  \\\n",
              "Title                                                                           \n",
              "Guardians of the Galaxy                          0        0        0        0   \n",
              "Prometheus                                       0        0        0        0   \n",
              "Split                                            0        0        0        0   \n",
              "Sing                                             0        0        0        0   \n",
              "Suicide Squad                                    0        0        0        0   \n",
              "The Great Wall                                   0        0        0        0   \n",
              "La La Land                                       0        0        0        0   \n",
              "The Lost City of Z                               1        0        0        0   \n",
              "Passengers                                       0        1        0        0   \n",
              "Fantastic Beasts and Where to Find Them          0        0        0        0   \n",
              "\n",
              "                                         Crime  War  Musical  Sport  \n",
              "Title                                                                \n",
              "Guardians of the Galaxy                      0    0        0      0  \n",
              "Prometheus                                   0    0        0      0  \n",
              "Split                                        0    0        0      0  \n",
              "Sing                                         0    0        0      0  \n",
              "Suicide Squad                                0    0        0      0  \n",
              "The Great Wall                               0    0        0      0  \n",
              "La La Land                                   0    0        0      0  \n",
              "The Lost City of Z                           0    0        0      0  \n",
              "Passengers                                   0    0        0      0  \n",
              "Fantastic Beasts and Where to Find Them      0    0        0      0  "
            ],
            "text/html": [
              "\n",
              "  <div id=\"df-2df081d9-845e-4242-b049-5f39ed492f80\">\n",
              "    <div class=\"colab-df-container\">\n",
              "      <div>\n",
              "<style scoped>\n",
              "    .dataframe tbody tr th:only-of-type {\n",
              "        vertical-align: middle;\n",
              "    }\n",
              "\n",
              "    .dataframe tbody tr th {\n",
              "        vertical-align: top;\n",
              "    }\n",
              "\n",
              "    .dataframe thead th {\n",
              "        text-align: right;\n",
              "    }\n",
              "</style>\n",
              "<table border=\"1\" class=\"dataframe\">\n",
              "  <thead>\n",
              "    <tr style=\"text-align: right;\">\n",
              "      <th></th>\n",
              "      <th>Action</th>\n",
              "      <th>Adventure</th>\n",
              "      <th>Sci-Fi</th>\n",
              "      <th>Mystery</th>\n",
              "      <th>Horror</th>\n",
              "      <th>Thriller</th>\n",
              "      <th>Animation</th>\n",
              "      <th>Comedy</th>\n",
              "      <th>Family</th>\n",
              "      <th>Fantasy</th>\n",
              "      <th>Drama</th>\n",
              "      <th>Music</th>\n",
              "      <th>Biography</th>\n",
              "      <th>Romance</th>\n",
              "      <th>History</th>\n",
              "      <th>Western</th>\n",
              "      <th>Crime</th>\n",
              "      <th>War</th>\n",
              "      <th>Musical</th>\n",
              "      <th>Sport</th>\n",
              "    </tr>\n",
              "    <tr>\n",
              "      <th>Title</th>\n",
              "      <th></th>\n",
              "      <th></th>\n",
              "      <th></th>\n",
              "      <th></th>\n",
              "      <th></th>\n",
              "      <th></th>\n",
              "      <th></th>\n",
              "      <th></th>\n",
              "      <th></th>\n",
              "      <th></th>\n",
              "      <th></th>\n",
              "      <th></th>\n",
              "      <th></th>\n",
              "      <th></th>\n",
              "      <th></th>\n",
              "      <th></th>\n",
              "      <th></th>\n",
              "      <th></th>\n",
              "      <th></th>\n",
              "      <th></th>\n",
              "    </tr>\n",
              "  </thead>\n",
              "  <tbody>\n",
              "    <tr>\n",
              "      <th>Guardians of the Galaxy</th>\n",
              "      <td>1</td>\n",
              "      <td>1</td>\n",
              "      <td>1</td>\n",
              "      <td>0</td>\n",
              "      <td>0</td>\n",
              "      <td>0</td>\n",
              "      <td>0</td>\n",
              "      <td>0</td>\n",
              "      <td>0</td>\n",
              "      <td>0</td>\n",
              "      <td>0</td>\n",
              "      <td>0</td>\n",
              "      <td>0</td>\n",
              "      <td>0</td>\n",
              "      <td>0</td>\n",
              "      <td>0</td>\n",
              "      <td>0</td>\n",
              "      <td>0</td>\n",
              "      <td>0</td>\n",
              "      <td>0</td>\n",
              "    </tr>\n",
              "    <tr>\n",
              "      <th>Prometheus</th>\n",
              "      <td>0</td>\n",
              "      <td>1</td>\n",
              "      <td>1</td>\n",
              "      <td>1</td>\n",
              "      <td>0</td>\n",
              "      <td>0</td>\n",
              "      <td>0</td>\n",
              "      <td>0</td>\n",
              "      <td>0</td>\n",
              "      <td>0</td>\n",
              "      <td>0</td>\n",
              "      <td>0</td>\n",
              "      <td>0</td>\n",
              "      <td>0</td>\n",
              "      <td>0</td>\n",
              "      <td>0</td>\n",
              "      <td>0</td>\n",
              "      <td>0</td>\n",
              "      <td>0</td>\n",
              "      <td>0</td>\n",
              "    </tr>\n",
              "    <tr>\n",
              "      <th>Split</th>\n",
              "      <td>0</td>\n",
              "      <td>0</td>\n",
              "      <td>0</td>\n",
              "      <td>0</td>\n",
              "      <td>1</td>\n",
              "      <td>1</td>\n",
              "      <td>0</td>\n",
              "      <td>0</td>\n",
              "      <td>0</td>\n",
              "      <td>0</td>\n",
              "      <td>0</td>\n",
              "      <td>0</td>\n",
              "      <td>0</td>\n",
              "      <td>0</td>\n",
              "      <td>0</td>\n",
              "      <td>0</td>\n",
              "      <td>0</td>\n",
              "      <td>0</td>\n",
              "      <td>0</td>\n",
              "      <td>0</td>\n",
              "    </tr>\n",
              "    <tr>\n",
              "      <th>Sing</th>\n",
              "      <td>0</td>\n",
              "      <td>0</td>\n",
              "      <td>0</td>\n",
              "      <td>0</td>\n",
              "      <td>0</td>\n",
              "      <td>0</td>\n",
              "      <td>1</td>\n",
              "      <td>1</td>\n",
              "      <td>1</td>\n",
              "      <td>0</td>\n",
              "      <td>0</td>\n",
              "      <td>0</td>\n",
              "      <td>0</td>\n",
              "      <td>0</td>\n",
              "      <td>0</td>\n",
              "      <td>0</td>\n",
              "      <td>0</td>\n",
              "      <td>0</td>\n",
              "      <td>0</td>\n",
              "      <td>0</td>\n",
              "    </tr>\n",
              "    <tr>\n",
              "      <th>Suicide Squad</th>\n",
              "      <td>1</td>\n",
              "      <td>1</td>\n",
              "      <td>0</td>\n",
              "      <td>0</td>\n",
              "      <td>0</td>\n",
              "      <td>0</td>\n",
              "      <td>0</td>\n",
              "      <td>0</td>\n",
              "      <td>0</td>\n",
              "      <td>1</td>\n",
              "      <td>0</td>\n",
              "      <td>0</td>\n",
              "      <td>0</td>\n",
              "      <td>0</td>\n",
              "      <td>0</td>\n",
              "      <td>0</td>\n",
              "      <td>0</td>\n",
              "      <td>0</td>\n",
              "      <td>0</td>\n",
              "      <td>0</td>\n",
              "    </tr>\n",
              "    <tr>\n",
              "      <th>The Great Wall</th>\n",
              "      <td>1</td>\n",
              "      <td>1</td>\n",
              "      <td>0</td>\n",
              "      <td>0</td>\n",
              "      <td>0</td>\n",
              "      <td>0</td>\n",
              "      <td>0</td>\n",
              "      <td>0</td>\n",
              "      <td>0</td>\n",
              "      <td>1</td>\n",
              "      <td>0</td>\n",
              "      <td>0</td>\n",
              "      <td>0</td>\n",
              "      <td>0</td>\n",
              "      <td>0</td>\n",
              "      <td>0</td>\n",
              "      <td>0</td>\n",
              "      <td>0</td>\n",
              "      <td>0</td>\n",
              "      <td>0</td>\n",
              "    </tr>\n",
              "    <tr>\n",
              "      <th>La La Land</th>\n",
              "      <td>0</td>\n",
              "      <td>0</td>\n",
              "      <td>0</td>\n",
              "      <td>0</td>\n",
              "      <td>0</td>\n",
              "      <td>0</td>\n",
              "      <td>0</td>\n",
              "      <td>1</td>\n",
              "      <td>0</td>\n",
              "      <td>0</td>\n",
              "      <td>1</td>\n",
              "      <td>1</td>\n",
              "      <td>0</td>\n",
              "      <td>0</td>\n",
              "      <td>0</td>\n",
              "      <td>0</td>\n",
              "      <td>0</td>\n",
              "      <td>0</td>\n",
              "      <td>0</td>\n",
              "      <td>0</td>\n",
              "    </tr>\n",
              "    <tr>\n",
              "      <th>The Lost City of Z</th>\n",
              "      <td>1</td>\n",
              "      <td>1</td>\n",
              "      <td>0</td>\n",
              "      <td>0</td>\n",
              "      <td>0</td>\n",
              "      <td>0</td>\n",
              "      <td>0</td>\n",
              "      <td>0</td>\n",
              "      <td>0</td>\n",
              "      <td>0</td>\n",
              "      <td>0</td>\n",
              "      <td>0</td>\n",
              "      <td>1</td>\n",
              "      <td>0</td>\n",
              "      <td>0</td>\n",
              "      <td>0</td>\n",
              "      <td>0</td>\n",
              "      <td>0</td>\n",
              "      <td>0</td>\n",
              "      <td>0</td>\n",
              "    </tr>\n",
              "    <tr>\n",
              "      <th>Passengers</th>\n",
              "      <td>0</td>\n",
              "      <td>1</td>\n",
              "      <td>0</td>\n",
              "      <td>0</td>\n",
              "      <td>0</td>\n",
              "      <td>0</td>\n",
              "      <td>0</td>\n",
              "      <td>0</td>\n",
              "      <td>0</td>\n",
              "      <td>0</td>\n",
              "      <td>1</td>\n",
              "      <td>0</td>\n",
              "      <td>0</td>\n",
              "      <td>1</td>\n",
              "      <td>0</td>\n",
              "      <td>0</td>\n",
              "      <td>0</td>\n",
              "      <td>0</td>\n",
              "      <td>0</td>\n",
              "      <td>0</td>\n",
              "    </tr>\n",
              "    <tr>\n",
              "      <th>Fantastic Beasts and Where to Find Them</th>\n",
              "      <td>0</td>\n",
              "      <td>1</td>\n",
              "      <td>0</td>\n",
              "      <td>0</td>\n",
              "      <td>0</td>\n",
              "      <td>0</td>\n",
              "      <td>0</td>\n",
              "      <td>0</td>\n",
              "      <td>1</td>\n",
              "      <td>1</td>\n",
              "      <td>0</td>\n",
              "      <td>0</td>\n",
              "      <td>0</td>\n",
              "      <td>0</td>\n",
              "      <td>0</td>\n",
              "      <td>0</td>\n",
              "      <td>0</td>\n",
              "      <td>0</td>\n",
              "      <td>0</td>\n",
              "      <td>0</td>\n",
              "    </tr>\n",
              "  </tbody>\n",
              "</table>\n",
              "</div>\n",
              "      <button class=\"colab-df-convert\" onclick=\"convertToInteractive('df-2df081d9-845e-4242-b049-5f39ed492f80')\"\n",
              "              title=\"Convert this dataframe to an interactive table.\"\n",
              "              style=\"display:none;\">\n",
              "        \n",
              "  <svg xmlns=\"http://www.w3.org/2000/svg\" height=\"24px\"viewBox=\"0 0 24 24\"\n",
              "       width=\"24px\">\n",
              "    <path d=\"M0 0h24v24H0V0z\" fill=\"none\"/>\n",
              "    <path d=\"M18.56 5.44l.94 2.06.94-2.06 2.06-.94-2.06-.94-.94-2.06-.94 2.06-2.06.94zm-11 1L8.5 8.5l.94-2.06 2.06-.94-2.06-.94L8.5 2.5l-.94 2.06-2.06.94zm10 10l.94 2.06.94-2.06 2.06-.94-2.06-.94-.94-2.06-.94 2.06-2.06.94z\"/><path d=\"M17.41 7.96l-1.37-1.37c-.4-.4-.92-.59-1.43-.59-.52 0-1.04.2-1.43.59L10.3 9.45l-7.72 7.72c-.78.78-.78 2.05 0 2.83L4 21.41c.39.39.9.59 1.41.59.51 0 1.02-.2 1.41-.59l7.78-7.78 2.81-2.81c.8-.78.8-2.07 0-2.86zM5.41 20L4 18.59l7.72-7.72 1.47 1.35L5.41 20z\"/>\n",
              "  </svg>\n",
              "      </button>\n",
              "      \n",
              "  <style>\n",
              "    .colab-df-container {\n",
              "      display:flex;\n",
              "      flex-wrap:wrap;\n",
              "      gap: 12px;\n",
              "    }\n",
              "\n",
              "    .colab-df-convert {\n",
              "      background-color: #E8F0FE;\n",
              "      border: none;\n",
              "      border-radius: 50%;\n",
              "      cursor: pointer;\n",
              "      display: none;\n",
              "      fill: #1967D2;\n",
              "      height: 32px;\n",
              "      padding: 0 0 0 0;\n",
              "      width: 32px;\n",
              "    }\n",
              "\n",
              "    .colab-df-convert:hover {\n",
              "      background-color: #E2EBFA;\n",
              "      box-shadow: 0px 1px 2px rgba(60, 64, 67, 0.3), 0px 1px 3px 1px rgba(60, 64, 67, 0.15);\n",
              "      fill: #174EA6;\n",
              "    }\n",
              "\n",
              "    [theme=dark] .colab-df-convert {\n",
              "      background-color: #3B4455;\n",
              "      fill: #D2E3FC;\n",
              "    }\n",
              "\n",
              "    [theme=dark] .colab-df-convert:hover {\n",
              "      background-color: #434B5C;\n",
              "      box-shadow: 0px 1px 3px 1px rgba(0, 0, 0, 0.15);\n",
              "      filter: drop-shadow(0px 1px 2px rgba(0, 0, 0, 0.3));\n",
              "      fill: #FFFFFF;\n",
              "    }\n",
              "  </style>\n",
              "\n",
              "      <script>\n",
              "        const buttonEl =\n",
              "          document.querySelector('#df-2df081d9-845e-4242-b049-5f39ed492f80 button.colab-df-convert');\n",
              "        buttonEl.style.display =\n",
              "          google.colab.kernel.accessAllowed ? 'block' : 'none';\n",
              "\n",
              "        async function convertToInteractive(key) {\n",
              "          const element = document.querySelector('#df-2df081d9-845e-4242-b049-5f39ed492f80');\n",
              "          const dataTable =\n",
              "            await google.colab.kernel.invokeFunction('convertToInteractive',\n",
              "                                                     [key], {});\n",
              "          if (!dataTable) return;\n",
              "\n",
              "          const docLinkHtml = 'Like what you see? Visit the ' +\n",
              "            '<a target=\"_blank\" href=https://colab.research.google.com/notebooks/data_table.ipynb>data table notebook</a>'\n",
              "            + ' to learn more about interactive tables.';\n",
              "          element.innerHTML = '';\n",
              "          dataTable['output_type'] = 'display_data';\n",
              "          await google.colab.output.renderOutput(dataTable, element);\n",
              "          const docLink = document.createElement('div');\n",
              "          docLink.innerHTML = docLinkHtml;\n",
              "          element.appendChild(docLink);\n",
              "        }\n",
              "      </script>\n",
              "    </div>\n",
              "  </div>\n",
              "  "
            ]
          },
          "metadata": {},
          "execution_count": 25
        }
      ]
    },
    {
      "cell_type": "markdown",
      "source": [
        "##Step 2: train_test_split\n",
        "\n",
        "We divided our new dataset into 60% train, 20% test and 20& validation. We used partioning like this because our dataset was not big. Moreover, we did this to avoid overfitting."
      ],
      "metadata": {
        "id": "nUsgq821MWEO"
      }
    },
    {
      "cell_type": "code",
      "source": [
        "from sklearn.model_selection import train_test_split\n",
        "from sklearn.metrics import accuracy_score\n",
        "from sklearn.linear_model import LinearRegression\n",
        "from sklearn.metrics import mean_squared_error, mean_absolute_error\n",
        "X = df_dict\n",
        "y = df[\"Rating\"]\n",
        "\n",
        "# 60 - 40\n",
        "X_train, X_remaining, y_train, y_remaining = train_test_split(X,y,test_size = 0.40, random_state = 0)\n",
        "#20 - 20\n",
        "X_test, X_val, y_test, y_val = train_test_split(X_remaining, y_remaining, test_size = 0.50, random_state = 0)"
      ],
      "metadata": {
        "id": "OaQTySrUMrd_"
      },
      "execution_count": null,
      "outputs": []
    },
    {
      "cell_type": "markdown",
      "source": [
        "##Step 3: Fitting our model "
      ],
      "metadata": {
        "id": "WPMeFEwTNF5H"
      }
    },
    {
      "cell_type": "code",
      "source": [
        "fig, (ax1,ax2) = plt.subplots(1,2, figsize=(16,5))\n",
        "\n",
        "model = LinearRegression()\n",
        "\n",
        "model.fit(X_train,y_train)\n",
        "\n",
        "y_pred = model.predict(X_test)\n",
        "\n",
        "X_test_arranged = np.arange(0,len(X_test),1)\n",
        "\n",
        "ax1.scatter(X_test_arranged, y_test, color=\"blue\")\n",
        "\n",
        "ax2.scatter(X_test_arranged, y_test, color=\"blue\")\n",
        "\n",
        "ax2.plot(X_test_arranged, y_pred, color='red', linewidth=1.4)\n",
        "\n",
        "\n",
        "\n",
        "print(model.coef_)\n",
        "plt.show()"
      ],
      "metadata": {
        "colab": {
          "base_uri": "https://localhost:8080/",
          "height": 389
        },
        "id": "RGYbqzxaNLxL",
        "outputId": "8fc034b5-630e-4ab0-f4e5-7e78f3b57a25"
      },
      "execution_count": null,
      "outputs": [
        {
          "output_type": "stream",
          "name": "stdout",
          "text": [
            "[-0.10019981  0.12480405  0.15755768  0.13286751 -0.44970041  0.08451002\n",
            "  0.76865724 -0.03169473 -0.06841131  0.09631426  0.35417685  0.18254713\n",
            "  0.41483707 -0.01199759  0.16710344  0.4825762   0.07972845  0.78211658\n",
            "  0.43390842  0.08188678]\n"
          ]
        },
        {
          "output_type": "display_data",
          "data": {
            "text/plain": [
              "<Figure size 1152x360 with 2 Axes>"
            ],
            "image/png": "[encoded data removed]"
          },
          "metadata": {
            "needs_background": "light"
          }
        }
      ]
    },
    {
      "cell_type": "markdown",
      "source": [
        "##Set 4: Correlation"
      ],
      "metadata": {
        "id": "YLrzMdFNODnl"
      }
    },
    {
      "cell_type": "code",
      "source": [
        "r_2 = model.score(X_test, y_test)\n",
        "print(\"R-squared value: \", r_2)\n",
        "\n",
        "print(\"------------------------\")\n",
        "\n",
        "mse = mean_squared_error(y_test, y_pred)\n",
        "rmse = np.sqrt(mse)\n",
        "mae = mean_absolute_error(y_test, y_pred)\n",
        "\n",
        "print(\"MSE: {}\".format(mse))\n",
        "print(\"RMSE: {}\".format(rmse))\n",
        "print(\"MAE: {}\".format(mae))"
      ],
      "metadata": {
        "colab": {
          "base_uri": "https://localhost:8080/"
        },
        "id": "asbyn9klOIPb",
        "outputId": "d7fe810b-f99b-4593-c7df-dcfb4dcee587"
      },
      "execution_count": null,
      "outputs": [
        {
          "output_type": "stream",
          "name": "stdout",
          "text": [
            "R-squared value:  0.23034489882187925\n",
            "------------------------\n",
            "MSE: 0.5080475654026886\n",
            "RMSE: 0.7127745544018028\n",
            "MAE: 0.5813740069890826\n"
          ]
        }
      ]
    },
    {
      "cell_type": "markdown",
      "source": [
        "#Conclusion"
      ],
      "metadata": {
        "id": "yBAChuP3O5Bh"
      }
    },
    {
      "cell_type": "markdown",
      "source": [
        "In conclusion, in the data we examine according to the result of our ML model that we used proves that there is a weak correlation between genre of movies and rating, as it can be seen from the result of error functions which resulted in a low R-squared value : 0.23. When r value is 1, the data has 100% correlation, and when r value is equal to 0, it has 0% correlation. The fact that our value is much closer to 0 proves that there is a low correlation or there is no correlation.\n"
      ],
      "metadata": {
        "id": "Sspcs90bO98G"
      }
    },
    {
      "cell_type": "markdown",
      "source": [
        "#Future Work"
      ],
      "metadata": {
        "id": "IoVx6LzBPFGI"
      }
    },
    {
      "cell_type": "markdown",
      "source": [
        "For future work, we need bigger database because we think that there has to be a correlation between a movie genre and its rating. "
      ],
      "metadata": {
        "id": "MN5580psPH8v"
      }
    },
    {
      "cell_type": "markdown",
      "source": [
        "# Work Division"
      ],
      "metadata": {
        "id": "Dfti06M7u-_3"
      }
    },
    {
      "cell_type": "markdown",
      "source": [
        "We did everything together."
      ],
      "metadata": {
        "id": "dzq3OPgtvBWy"
      }
    }
  ]
}