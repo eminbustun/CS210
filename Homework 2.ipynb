{
  "nbformat": 4,
  "nbformat_minor": 0,
  "metadata": {
    "colab": {
      "provenance": [],
      "include_colab_link": true
    },
    "kernelspec": {
      "name": "python3",
      "display_name": "Python 3"
    },
    "language_info": {
      "name": "python"
    }
  },
  "cells": [
    {
      "cell_type": "markdown",
      "metadata": {
        "id": "view-in-github",
        "colab_type": "text"
      },
      "source": [
        "<a href=\"https://colab.research.google.com/github/eminbustun/CS210/blob/main/Homework%202.ipynb\" target=\"_parent\"><img src=\"https://colab.research.google.com/assets/colab-badge.svg\" alt=\"Open In Colab\"/></a>"
      ]
    },
    {
      "cell_type": "markdown",
      "source": [
        "# Homework 2 - Data Wrangling\n",
        "\n",
        "\n",
        "*In this homework, you are going to work on a real-world dataset and perform some data transformations. We suggest you start the homework early.*\n",
        "\n",
        "**Submission Instructions**\n",
        "\n",
        "---\n",
        "It is important that you follow the submission instructions. \n",
        "1. Copy this assignment notebook to your Drive. <font color = 'red'> `File` --> `Save a copy in Drive`</font>. Rename it as <font color = 'green'>`Lastname_Firstname_hw2`</font>.\n",
        "\n",
        "2. Write your solutions in the cells  marked as <font color = 'green'>`# your code`</font>.\n",
        "\n",
        "3. **Do not delete your outputs**. They are essential for the grading. Make sure that cells containing your solutions are executed, and the results are displayed on the notebook.\n",
        "\n",
        "4. When you're done please submit your solutions as an <font color=\"red\">`.ipynb`</font> file. To do so:\n",
        "\n",
        "\n",
        "  a. Click on <font color=\"red\">`File`</font>  at the top left on the Colab screen, then click on <font color = 'red'>`Download .ipynb`</font>.\n",
        "\n",
        "  b. Then submit the downloaded <font color=\"red\">`.ipynb`</font> version of your work on SUCourse.\n",
        "\n",
        "\n",
        "For any question, please use the discussion page on Sucourse.\n",
        "\n",
        "---\n",
        "\n",
        "**Important Note: In this homework, you are not allowed to use Pandas.**"
      ],
      "metadata": {
        "id": "bzLXvNMN_gYM"
      }
    },
    {
      "cell_type": "markdown",
      "source": [
        "In this homework, you will work on a dataset from [Kaggle-Medium-2021-Data-Science-Articles](https://www.kaggle.com/datasets/viniciuslambert/medium-2021-data-science-articles-dataset). The dataset contains information on data science articles shared on Medium.com in 2021.\n",
        "\n",
        "For this homework, you will use the provided file `Medium_DS_Articles_2021_Dataset.csv`. This is a modified version of the original dataset.\n",
        "<!-- This is not the original data file, we modified and eliminated some parts. -->\n",
        "\n",
        "In the dataset, each row has 7 attribute values separated with `,`. These attributes are described in the list below with their respective order in the dataset.\n",
        "\n",
        "\n",
        "  1.   **url:** Refers to the url of the article\n",
        "\n",
        "  2.   **author:** Who has written the article\n",
        "\n",
        "  3.   **claps** Similar to \"Likes\" on Social Media\n",
        "\n",
        "  4.   **responses:** Comments written to the articles\n",
        "  \n",
        "  5.   **reading_time:** Reading time of articles recorded by Medium.com (In minutes)\n",
        "  \n",
        "  6.   **date:** The date the article was written\n",
        "\n",
        "\n",
        "A snapshot from the dataset containing three sample rows is also provided below.\n",
        "```\n",
        "['https://medium.com/@sellforte-insights/bayesian-data-analysis-a-brave-new-world-of-statistics-1fc3167812d7','sellforte-insights', '0.0', '0.0', '9-min', 'Data Science','2021-05-19']\n",
        "['https://towardsdatascience.com/how-to-improve-deep-learning-forecasts-for-time-series-part-2-c11efc8dfee2','michaelberk', '106.0', '0.0', '5-min', 'Machine Learning','2021-10-26']\n",
        "['https://medium.com/@paulshin17/intro-on-linear-regression-using-keras-predicting-real-estate-price-f0e94de1b912','paulshin17', '107.0', '0.0', '6-min', 'Data Science','2021-10-18']\n",
        "...\n",
        "```\n",
        "\n",
        "*Do not forget to add the shared `Medium_DS_Articles_2021_Dataset.csv` file to your drive and mount to your drive. Otherwise, you won't be able to read the file.*\n",
        "\n",
        "**!!!IMPORTANT: You are not allowed to use `pandas` in this homework**"
      ],
      "metadata": {
        "id": "kfiyUPnr_jYG"
      }
    },
    {
      "cell_type": "code",
      "source": [
        "from google.colab import drive\n",
        "drive.mount('./drive', force_remount=True)\n",
        "\n",
        "path_prefix = './drive/My Drive/'"
      ],
      "metadata": {
        "colab": {
          "base_uri": "https://localhost:8080/"
        },
        "id": "EVlcLWud_ist",
        "outputId": "77a1e61a-4a8e-418b-ad1e-5cebf6ddc42e"
      },
      "execution_count": null,
      "outputs": [
        {
          "output_type": "stream",
          "name": "stdout",
          "text": [
            "Mounted at ./drive\n"
          ]
        }
      ]
    },
    {
      "cell_type": "code",
      "source": [
        "import numpy as np\n",
        "import matplotlib.pyplot as plt\n",
        "import re\n",
        "\n",
        "%matplotlib inline"
      ],
      "metadata": {
        "id": "30e5ET0u_rKp"
      },
      "execution_count": null,
      "outputs": []
    },
    {
      "cell_type": "markdown",
      "source": [
        "## 10 Points - Q1: Read the Dataset\n",
        "\n",
        "In the provided dataset, entries are separated by commas. Read and store the file as a 2D numpy array. Each column should capture the corresponding fields.\n",
        "\n",
        "- Read the given file into a numpy array.\n",
        "- Print the number of rows and columns.\n",
        "- Print the number of unique Tags.\n",
        "\n",
        "Example Output:\n",
        "```\n",
        "Number of rows: 36810, columns: 7\n",
        "Number of unique Tags: 8\n",
        "```\n",
        "\n",
        "*Hint: Do not forget to skip the first line (the header).*"
      ],
      "metadata": {
        "id": "FtwZhhnm_s3r"
      }
    },
    {
      "cell_type": "code",
      "source": [
        "input = \"Medium_DS_Articles_2021_Dataset.csv\"\n",
        "\n",
        "f = open(path_prefix + input,\"r\")\n",
        "\n",
        "a = f.readlines()\n",
        "\n",
        "nw = a[1:] # slip the header line\n",
        "\n",
        "ndarray = np.genfromtxt(nw, dtype='str', delimiter=\",\") # read nw and store it in 2d numpy array\n",
        "\n",
        "columns = len(ndarray[0])\n",
        "\n",
        "rows = len(ndarray)\n",
        "\n",
        "print(\"Number of rows:\", rows,\", columns:\",columns)\n",
        "\n",
        "tags = {} # dictionary for finding the tags and their occurence number\n",
        "\n",
        "for i in ndarray:\n",
        "  tag = i[5]\n",
        "  if tag in tags:\n",
        "    tags[tag] += 1 \n",
        "  else:\n",
        "    tags[tag] = 1\n",
        "\n",
        "unique_tags = len(tags)\n",
        "\n",
        "print(\"Number of unique Tags:\", unique_tags)"
      ],
      "metadata": {
        "id": "QyDPMaYz_vJs",
        "colab": {
          "base_uri": "https://localhost:8080/"
        },
        "outputId": "8c843a3c-bb53-4d93-c500-3ed2861c3fb1"
      },
      "execution_count": null,
      "outputs": [
        {
          "output_type": "stream",
          "name": "stdout",
          "text": [
            "Number of rows: 36810 , columns: 7\n",
            "Number of unique Tags: 8\n"
          ]
        }
      ]
    },
    {
      "cell_type": "markdown",
      "source": [
        "## 30 Points - Q2: Exploring Dataset"
      ],
      "metadata": {
        "id": "G6iSBqFE_1PI"
      }
    },
    {
      "cell_type": "markdown",
      "source": [
        "### 15 Points - Part A\n",
        "\n",
        "The tag field makes it easy to find the articles on the related topic. Examining the tags used in articles written in 2021 can give us information about which field has become more popular.\n",
        "\n",
        "- Print the name of each unique Tag and its frequency in data from the most frequent to least\n",
        "\n",
        "Example output:\n",
        "```\n",
        "Data Science           -   9033\n",
        "Machine Learning       -   7732\n",
        "Artificial Inteligence -   7552\n",
        "Data                   -   4810\n",
        "Deep Learning          -   2903\n",
        "X                      -   1674\n",
        "Big Data               -   1579\n",
        "Analytics              -   1527\n",
        "```"
      ],
      "metadata": {
        "id": "_9qqI1_X_3i0"
      }
    },
    {
      "cell_type": "code",
      "source": [
        "# first, i should sort the dictionary tags\n",
        "\n",
        "sortd = sorted(tags.items(), key=lambda item:item[1],reverse=True)\n",
        "\n",
        "tags = dict(sortd)\n",
        "\n",
        "# sort part is done\n",
        "\n",
        "\n",
        "for k,v in tags.items():\n",
        "  print(f'{k:25}-   {v}') # I wrote it like this because I want it to be look alike in output you gave.\n",
        "  \n",
        "  \n"
      ],
      "metadata": {
        "id": "wU1NkEAM_6ee",
        "colab": {
          "base_uri": "https://localhost:8080/"
        },
        "outputId": "4adfc828-f43c-4777-e6d4-5d8acc585667"
      },
      "execution_count": null,
      "outputs": [
        {
          "output_type": "stream",
          "name": "stdout",
          "text": [
            "Data Science             -   9033\n",
            "Machine Learning         -   7732\n",
            "Artificial Inteligence   -   7552\n",
            "Data                     -   4810\n",
            "Deep Learning            -   2903\n",
            "X                        -   1674\n",
            "Big Data                 -   1579\n",
            "Analytics                -   1527\n"
          ]
        }
      ]
    },
    {
      "cell_type": "markdown",
      "source": [
        "### 15 Points - Part B\n",
        "\n",
        "When we examined the frequency of the tags, we learned that more articles were written about which topic. But there is a tag called '**X**' and we don't know what it means. We may want to check the rows containing this Tag and examine what they are. When we examine these, we see they all have the similar structure and there is something strange in the '**date**' field. We want you to rearrange these corrupted date fields so that every '**date**' value in the same format.\n",
        "\n",
        "**Note:** Some of the examples can be seen below where %Y represents years (e.g. 2022, 2021), %m month as a zero-padded decimal number (e.g. 07, 08) and %d day of the month as a zero-padded decimal number (e.g. 01, 03). You may assume that the order of date elements is always the same in the raw data: %Y %m %d.\n",
        "\n",
        "\n",
        "Corrupted Date formats are as follows:\n",
        "```\n",
        "'(%Y)::(%m)::(%d)', \n",
        "'%Y %m %d'\n",
        "```\n",
        "You **MUST** use **regular expressions** for this question. (Use the **re** library of Python)\n",
        "- Write a **function** that checks the format of date feature and returns True if all observations are in the expected format, otherwise returns False.\n",
        "    - **Name of the function**: validate_date_format\n",
        "    - **Input**: Date column\n",
        "    - **Output**: True if all date values are in the expected format (%Y-%m-%d --- 2022-10-22), otherwise False\n",
        "- Then, convert the **date** feature to the expected format.\n",
        "\n",
        "```\n",
        "Expected Date Format: '%Y-%m-%d' --> '2022-10-22'\n",
        "```"
      ],
      "metadata": {
        "id": "xOlWyha___nz"
      }
    },
    {
      "cell_type": "code",
      "source": [
        "def validate_date_format(date_column):\n",
        "  \n",
        "  for n in ndarray:\n",
        "    wanted_date_type = re.findall(r\"[\\d]{4}-[\\d]{2}-[\\d]{2}\",n[date_column])\n",
        "    if wanted_date_type == []: # if cannot find any date like expressed in the upper sentence.\n",
        "      return False\n",
        "  return True\n",
        "   \n",
        "a = validate_date_format(6)\n",
        "\n",
        "if a == False: \n",
        "  for k in ndarray:\n",
        "     wrong_data_type = re.findall(r\"[\\d]{4}\\s[\\d]{2}\\s[\\d]{2}\",k[6]) #'%Y %m %d'\n",
        "     wrong_data_type2 = re.findall(r\"\\([\\d]{4}\\)::\\([\\d]{2}\\)::\\([\\d]{2}\\)\",k[6]) #'(%Y)::(%m)::(%d)'\n",
        "\n",
        "     if wrong_data_type != []:\n",
        "       k[6] = wrong_data_type[0].replace(\" \",\"-\")\n",
        "       \n",
        "    \n",
        "     if wrong_data_type2 != []:\n",
        "       k[6] = wrong_data_type2[0].replace(\"::\",\"-\").replace(\")\",\"\").replace(\"(\",\"\")\n",
        "       \n",
        "    \n",
        "\n"
      ],
      "metadata": {
        "id": "VlSC1Ja-ACSz"
      },
      "execution_count": null,
      "outputs": []
    },
    {
      "cell_type": "markdown",
      "source": [
        "## 20 Points - Q3: Cleaning Data\n",
        "\n",
        "We learned that there are some removed articles. In Q2 Part B, we rearranged the format of the date feature. In this part, we will examine in which month more articles were deleted.\n",
        "\n",
        "- Display the total number of deleted articles per each month as a bar chart\n",
        "- At the end, delete these removed articles from the dataset\n",
        "\n"
      ],
      "metadata": {
        "id": "eB8OLrnJAIKa"
      }
    },
    {
      "cell_type": "code",
      "source": [
        "#############################################################################################\n",
        "dictionary_for_months = {}\n",
        "\n",
        "for o in ndarray:\n",
        "\n",
        "  if o[5] == \"X\":\n",
        "\n",
        "    mymatch = re.findall(\"-[\\d]{2}-\", o[6])\n",
        "    for z in mymatch:\n",
        "      str_without = z.replace(\"-\",\"\")\n",
        "      \n",
        "      if str_without in dictionary_for_months:\n",
        "        dictionary_for_months[str_without] += 1\n",
        "      else:\n",
        "        dictionary_for_months[str_without] = 1\n",
        "\n",
        "    \n",
        "dictionary_for_months = dict(sorted(dictionary_for_months.items(), key=lambda item:item[1], reverse=True))\n",
        "\n",
        "left = dictionary_for_months.keys()\n",
        "\n",
        "right = dictionary_for_months.values()\n",
        "\n",
        "\n",
        "\n",
        "plt.bar(left,right, color='purple')\n",
        "\n",
        "plt.xlabel(\"Months\")\n",
        "\n",
        "plt.ylabel(\"Number of Deleted Articles\")\n",
        "\n",
        "plt.title(\"Deleted Articles in Different Months\")\n",
        "\n",
        "plt.show()\n",
        "#####################################################################################\n",
        "\n",
        "lstn = []\n",
        "\n",
        "counter = 0\n",
        "for one in ndarray:\n",
        "  if one[5] == \"X\":\n",
        "    lstn.append(counter)\n",
        "  counter += 1\n",
        "\n",
        "\n",
        "\n",
        "new_ndarray = np.delete(ndarray,lstn,0)\n",
        "\n"
      ],
      "metadata": {
        "id": "6mBB_RZuAKk2",
        "colab": {
          "base_uri": "https://localhost:8080/",
          "height": 295
        },
        "outputId": "6f289ba0-79b2-490c-f2e5-4f45cefd39a6"
      },
      "execution_count": null,
      "outputs": [
        {
          "output_type": "display_data",
          "data": {
            "text/plain": [
              "<Figure size 432x288 with 1 Axes>"
            ],
            "image/png": "[encoded data removed]"
          },
          "metadata": {
            "needs_background": "light"
          }
        }
      ]
    },
    {
      "cell_type": "markdown",
      "source": [
        "## 40 Points - Q4: Features of Medium Articles"
      ],
      "metadata": {
        "id": "T1Fc4ZoXAPiX"
      }
    },
    {
      "cell_type": "markdown",
      "source": [
        "### 10 Points - Part A\n",
        "\n",
        "In this question, we will examine the different features of the articles on Medium. In Q3, we deleted the removed articles to examine the data that is not missing. First, let's check the new shape of our dataset.\n",
        "\n",
        "- Print the new number of rows and columns after dropping missing values.\n",
        "\n",
        "Medium has reading times calculated automatically by the site's own method which you can find in data. Take a quick look at the basic statistical information of this feature. \n",
        "\n",
        "- Print the maximum, minimum and average reading time of articles\n",
        "\n",
        "Example Output:\n",
        "```\n",
        "After cleaning, Number of rows: 35136, columns: 7\n",
        "Maximum reading time: 131.0\n",
        "Minimum reading time: 0.0\n",
        "Average reading time: 5.041182832422587\n",
        "```"
      ],
      "metadata": {
        "id": "qHnRYpO-ATY1"
      }
    },
    {
      "cell_type": "code",
      "source": [
        "new_row = len(new_ndarray)\n",
        "\n",
        "new_cols = len(new_ndarray[0])\n",
        "############################\n",
        "cons = 0\n",
        "\n",
        "print(\"After cleaning, Number of rows:\",new_row, \", columns:\",new_cols)\n",
        "\n",
        "for rt in new_ndarray:\n",
        "  numt = rt[4].find(\"-\")\n",
        "  numte = float(rt[4][0:numt])\n",
        "  if numte > cons:\n",
        "    cons = numte\n",
        "\n",
        "print(\"Maximum reading time:\",cons)\n",
        "\n",
        "\n",
        "####################\n",
        "\n",
        "\n",
        "for rt1 in new_ndarray:\n",
        "  q = rt1[4].find(\"-\")\n",
        "  r = float(rt1[4][0:q])\n",
        "  if cons > r:\n",
        "    cons = r\n",
        "print(\"Minimum reading time:\",cons) \n",
        "###########################\n",
        "\n",
        "sum = 0\n",
        "\n",
        "for ag in new_ndarray:\n",
        "  number = ag[4].find(\"-\")\n",
        "  numberfloat = float(ag[4][0:number])\n",
        "\n",
        "  sum = numberfloat + sum\n",
        "\n",
        "\n",
        "avg = sum / new_row\n",
        "\n",
        "print(\"Average reading time:\",avg)\n",
        "\n"
      ],
      "metadata": {
        "id": "KCcTd0SyAVoi",
        "colab": {
          "base_uri": "https://localhost:8080/"
        },
        "outputId": "5647a732-cfe0-433d-ed70-5134dc9cce33"
      },
      "execution_count": null,
      "outputs": [
        {
          "output_type": "stream",
          "name": "stdout",
          "text": [
            "After cleaning, Number of rows: 35136 , columns: 7\n",
            "Maximum reading time: 131.0\n",
            "Minimum reading time: 0.0\n",
            "Average reading time: 5.041182832422587\n"
          ]
        }
      ]
    },
    {
      "cell_type": "markdown",
      "source": [
        "### 30 Points - Part B: Conditional Probability\n",
        "\n",
        "Claps and Responses show how many interaction an article get similar to likes and comments. We can find out which tag is likely to receive more interaction.\n",
        "\n",
        "$\\DeclareMathOperator*{\\argmax}{argmax} \\argmax\\limits_{\\small{tag} \\, \\in \\, \\text{Tag Category}}\\;P(\\text{Interaction}=\\text{1}|\\text{Tag Category}=\\text{tag})$\n",
        "\n",
        "- Add new column to data which shows '**interaction**' and its value is 1 if there is any interaction, otherwise 0.\n",
        "- For each tag category, calculate the conditional probability shown in the equation below.\n",
        "- Report the tag category that returns the highest conditional probability. \n",
        "- Print the tag category and its probability value.\n",
        "\n",
        "**Example Output:**\n",
        "```\n",
        "Data Science - 0.8334993911214437\n",
        "```"
      ],
      "metadata": {
        "id": "VhSXktqrAb8s"
      }
    },
    {
      "cell_type": "code",
      "source": [
        "\n",
        "arr0 = np.zeros((new_row,1))\n",
        "\n",
        "new_ndarray = np.append(new_ndarray, arr0,axis=1) #new column added.\n",
        "\n",
        "# I leave it like this because if I implement more codes, its constantly appending new columns"
      ],
      "metadata": {
        "id": "-SpHMvbAAcZs"
      },
      "execution_count": null,
      "outputs": []
    },
    {
      "cell_type": "code",
      "source": [
        "for q in new_ndarray: ## Interaction part\n",
        "\n",
        "   if q[2] != \"0.0\" or q[3] != \"0.0\":\n",
        "     q[7] = 1.0\n",
        "\n",
        "dict_tags = {}\n",
        "\n",
        "for z in new_ndarray:\n",
        "  \n",
        "  if z[5] in dict_tags:\n",
        "    dict_tags[z[5]] += 1\n",
        "  else:\n",
        "    dict_tags[z[5]] = 1\n",
        "\n",
        "dict_for_interaction = {}\n",
        "\n",
        "for p in new_ndarray:\n",
        "  \n",
        "    if p[7] == \"1.0\":\n",
        "      if p[5] in dict_for_interaction:\n",
        "        dict_for_interaction[p[5]] += 1\n",
        "      else:\n",
        "        dict_for_interaction[p[5]] = 1\n",
        "\n",
        "\n",
        "probability = {} # probabilities for each tags with interaction 1\n",
        "\n",
        "for t in dict_tags.keys():\n",
        "  \n",
        "  prob = dict_for_interaction[t] / dict_tags[t] \n",
        "  \n",
        "  \n",
        "  probability[t] = prob\n",
        "\n",
        "\n",
        "probability = dict(sorted(probability.items(), key=lambda tg:tg[1], reverse=True)) # sorting the dictionary descending order.\n",
        "\n",
        "for a,b in probability.items(): ## go to biggest value \n",
        "  print(a,\"-\", b)\n",
        "  break"
      ],
      "metadata": {
        "colab": {
          "base_uri": "https://localhost:8080/"
        },
        "id": "J74gXRaTGjxZ",
        "outputId": "d9f0cfd4-120a-40e7-c3ff-24206fee2f17"
      },
      "execution_count": null,
      "outputs": [
        {
          "output_type": "stream",
          "name": "stdout",
          "text": [
            "Data Science - 0.8334993911214436\n"
          ]
        }
      ]
    }
  ]
}